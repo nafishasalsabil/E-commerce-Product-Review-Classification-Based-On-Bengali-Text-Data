{
  "nbformat": 4,
  "nbformat_minor": 0,
  "metadata": {
    "colab": {
      "provenance": []
    },
    "kernelspec": {
      "name": "python3",
      "display_name": "Python 3"
    },
    "language_info": {
      "name": "python"
    }
  },
  "cells": [
    {
      "cell_type": "code",
      "execution_count": 1,
      "metadata": {
        "colab": {
          "base_uri": "https://localhost:8080/"
        },
        "id": "sIF5qVFfI9Jp",
        "outputId": "cb36bd5b-78c1-4977-d4ec-a2548dbcb390"
      },
      "outputs": [
        {
          "output_type": "stream",
          "name": "stdout",
          "text": [
            "Looking in indexes: https://pypi.org/simple, https://us-python.pkg.dev/colab-wheels/public/simple/\n",
            "Collecting bnlp_toolkit\n",
            "  Downloading bnlp_toolkit-3.3.0-py3-none-any.whl (22 kB)\n",
            "Collecting sklearn-crfsuite\n",
            "  Downloading sklearn_crfsuite-0.3.6-py2.py3-none-any.whl (12 kB)\n",
            "Requirement already satisfied: tqdm in /usr/local/lib/python3.9/dist-packages (from bnlp_toolkit) (4.65.0)\n",
            "Collecting gensim==4.0.1\n",
            "  Downloading gensim-4.0.1.tar.gz (23.1 MB)\n",
            "\u001b[2K     \u001b[90m━━━━━━━━━━━━━━━━━━━━━━━━━━━━━━━━━━━━━━━━\u001b[0m \u001b[32m23.1/23.1 MB\u001b[0m \u001b[31m22.6 MB/s\u001b[0m eta \u001b[36m0:00:00\u001b[0m\n",
            "\u001b[?25h  Preparing metadata (setup.py) ... \u001b[?25l\u001b[?25hdone\n",
            "Requirement already satisfied: numpy in /usr/local/lib/python3.9/dist-packages (from bnlp_toolkit) (1.22.4)\n",
            "Requirement already satisfied: nltk in /usr/local/lib/python3.9/dist-packages (from bnlp_toolkit) (3.8.1)\n",
            "Collecting emoji==1.7.0\n",
            "  Downloading emoji-1.7.0.tar.gz (175 kB)\n",
            "\u001b[2K     \u001b[90m━━━━━━━━━━━━━━━━━━━━━━━━━━━━━━━━━━━━━━\u001b[0m \u001b[32m175.4/175.4 KB\u001b[0m \u001b[31m16.3 MB/s\u001b[0m eta \u001b[36m0:00:00\u001b[0m\n",
            "\u001b[?25h  Preparing metadata (setup.py) ... \u001b[?25l\u001b[?25hdone\n",
            "Collecting sentencepiece\n",
            "  Downloading sentencepiece-0.1.97-cp39-cp39-manylinux_2_17_x86_64.manylinux2014_x86_64.whl (1.3 MB)\n",
            "\u001b[2K     \u001b[90m━━━━━━━━━━━━━━━━━━━━━━━━━━━━━━━━━━━━━━━━\u001b[0m \u001b[32m1.3/1.3 MB\u001b[0m \u001b[31m34.5 MB/s\u001b[0m eta \u001b[36m0:00:00\u001b[0m\n",
            "\u001b[?25hRequirement already satisfied: scipy in /usr/local/lib/python3.9/dist-packages (from bnlp_toolkit) (1.10.1)\n",
            "Collecting ftfy\n",
            "  Downloading ftfy-6.1.1-py3-none-any.whl (53 kB)\n",
            "\u001b[2K     \u001b[90m━━━━━━━━━━━━━━━━━━━━━━━━━━━━━━━━━━━━━━━━\u001b[0m \u001b[32m53.1/53.1 KB\u001b[0m \u001b[31m5.8 MB/s\u001b[0m eta \u001b[36m0:00:00\u001b[0m\n",
            "\u001b[?25hRequirement already satisfied: smart_open>=1.8.1 in /usr/local/lib/python3.9/dist-packages (from gensim==4.0.1->bnlp_toolkit) (6.3.0)\n",
            "Requirement already satisfied: wcwidth>=0.2.5 in /usr/local/lib/python3.9/dist-packages (from ftfy->bnlp_toolkit) (0.2.6)\n",
            "Requirement already satisfied: click in /usr/local/lib/python3.9/dist-packages (from nltk->bnlp_toolkit) (8.1.3)\n",
            "Requirement already satisfied: regex>=2021.8.3 in /usr/local/lib/python3.9/dist-packages (from nltk->bnlp_toolkit) (2022.10.31)\n",
            "Requirement already satisfied: joblib in /usr/local/lib/python3.9/dist-packages (from nltk->bnlp_toolkit) (1.1.1)\n",
            "Requirement already satisfied: six in /usr/local/lib/python3.9/dist-packages (from sklearn-crfsuite->bnlp_toolkit) (1.16.0)\n",
            "Requirement already satisfied: tabulate in /usr/local/lib/python3.9/dist-packages (from sklearn-crfsuite->bnlp_toolkit) (0.8.10)\n",
            "Collecting python-crfsuite>=0.8.3\n",
            "  Downloading python_crfsuite-0.9.9-cp39-cp39-manylinux_2_17_x86_64.manylinux2014_x86_64.whl (1.0 MB)\n",
            "\u001b[2K     \u001b[90m━━━━━━━━━━━━━━━━━━━━━━━━━━━━━━━━━━━━━━━━\u001b[0m \u001b[32m1.0/1.0 MB\u001b[0m \u001b[31m43.9 MB/s\u001b[0m eta \u001b[36m0:00:00\u001b[0m\n",
            "\u001b[?25hBuilding wheels for collected packages: emoji, gensim\n",
            "  Building wheel for emoji (setup.py) ... \u001b[?25l\u001b[?25hdone\n",
            "  Created wheel for emoji: filename=emoji-1.7.0-py3-none-any.whl size=171048 sha256=88862667d9a1a44eca345de99a50c3d1402f0675423cea656c91bc5fb1bb4ce1\n",
            "  Stored in directory: /root/.cache/pip/wheels/fa/7a/e9/22dd0515e1bad255e51663ee513a2fa839c95934c5fc301090\n",
            "  Building wheel for gensim (setup.py) ... \u001b[?25l\u001b[?25hdone\n",
            "  Created wheel for gensim: filename=gensim-4.0.1-cp39-cp39-linux_x86_64.whl size=26057819 sha256=a653cf0f0d26c9bf1b7eecf42c372bd3191ea2e528e4eb2362932758afd318ad\n",
            "  Stored in directory: /root/.cache/pip/wheels/20/74/75/72ec1172891bdecb4ee73fbc2c71d5a150f165b1d0c2ea04e1\n",
            "Successfully built emoji gensim\n",
            "Installing collected packages: sentencepiece, python-crfsuite, emoji, sklearn-crfsuite, ftfy, gensim, bnlp_toolkit\n",
            "  Attempting uninstall: gensim\n",
            "    Found existing installation: gensim 4.3.1\n",
            "    Uninstalling gensim-4.3.1:\n",
            "      Successfully uninstalled gensim-4.3.1\n",
            "Successfully installed bnlp_toolkit-3.3.0 emoji-1.7.0 ftfy-6.1.1 gensim-4.0.1 python-crfsuite-0.9.9 sentencepiece-0.1.97 sklearn-crfsuite-0.3.6\n",
            "Looking in indexes: https://pypi.org/simple, https://us-python.pkg.dev/colab-wheels/public/simple/\n",
            "Collecting bnltk\n",
            "  Downloading bnltk-0.7.6-py3-none-any.whl (11 kB)\n",
            "Requirement already satisfied: numpy in /usr/local/lib/python3.9/dist-packages (from bnltk) (1.22.4)\n",
            "Requirement already satisfied: keras in /usr/local/lib/python3.9/dist-packages (from bnltk) (2.12.0)\n",
            "Requirement already satisfied: tensorflow in /usr/local/lib/python3.9/dist-packages (from bnltk) (2.12.0)\n",
            "Requirement already satisfied: requests in /usr/local/lib/python3.9/dist-packages (from bnltk) (2.27.1)\n",
            "Collecting sklearn\n",
            "  Downloading sklearn-0.0.post1.tar.gz (3.6 kB)\n",
            "  Preparing metadata (setup.py) ... \u001b[?25l\u001b[?25hdone\n",
            "Requirement already satisfied: idna<4,>=2.5 in /usr/local/lib/python3.9/dist-packages (from requests->bnltk) (3.4)\n",
            "Requirement already satisfied: urllib3<1.27,>=1.21.1 in /usr/local/lib/python3.9/dist-packages (from requests->bnltk) (1.26.15)\n",
            "Requirement already satisfied: certifi>=2017.4.17 in /usr/local/lib/python3.9/dist-packages (from requests->bnltk) (2022.12.7)\n",
            "Requirement already satisfied: charset-normalizer~=2.0.0 in /usr/local/lib/python3.9/dist-packages (from requests->bnltk) (2.0.12)\n",
            "Requirement already satisfied: six>=1.12.0 in /usr/local/lib/python3.9/dist-packages (from tensorflow->bnltk) (1.16.0)\n",
            "Requirement already satisfied: tensorboard<2.13,>=2.12 in /usr/local/lib/python3.9/dist-packages (from tensorflow->bnltk) (2.12.0)\n",
            "Requirement already satisfied: astunparse>=1.6.0 in /usr/local/lib/python3.9/dist-packages (from tensorflow->bnltk) (1.6.3)\n",
            "Requirement already satisfied: typing-extensions>=3.6.6 in /usr/local/lib/python3.9/dist-packages (from tensorflow->bnltk) (4.5.0)\n",
            "Requirement already satisfied: tensorflow-estimator<2.13,>=2.12.0 in /usr/local/lib/python3.9/dist-packages (from tensorflow->bnltk) (2.12.0)\n",
            "Requirement already satisfied: google-pasta>=0.1.1 in /usr/local/lib/python3.9/dist-packages (from tensorflow->bnltk) (0.2.0)\n",
            "Requirement already satisfied: packaging in /usr/local/lib/python3.9/dist-packages (from tensorflow->bnltk) (23.0)\n",
            "Requirement already satisfied: absl-py>=1.0.0 in /usr/local/lib/python3.9/dist-packages (from tensorflow->bnltk) (1.4.0)\n",
            "Requirement already satisfied: wrapt<1.15,>=1.11.0 in /usr/local/lib/python3.9/dist-packages (from tensorflow->bnltk) (1.14.1)\n",
            "Requirement already satisfied: gast<=0.4.0,>=0.2.1 in /usr/local/lib/python3.9/dist-packages (from tensorflow->bnltk) (0.4.0)\n",
            "Requirement already satisfied: h5py>=2.9.0 in /usr/local/lib/python3.9/dist-packages (from tensorflow->bnltk) (3.8.0)\n",
            "Requirement already satisfied: libclang>=13.0.0 in /usr/local/lib/python3.9/dist-packages (from tensorflow->bnltk) (16.0.0)\n",
            "Requirement already satisfied: setuptools in /usr/local/lib/python3.9/dist-packages (from tensorflow->bnltk) (67.6.1)\n",
            "Requirement already satisfied: flatbuffers>=2.0 in /usr/local/lib/python3.9/dist-packages (from tensorflow->bnltk) (23.3.3)\n",
            "Requirement already satisfied: opt-einsum>=2.3.2 in /usr/local/lib/python3.9/dist-packages (from tensorflow->bnltk) (3.3.0)\n",
            "Requirement already satisfied: grpcio<2.0,>=1.24.3 in /usr/local/lib/python3.9/dist-packages (from tensorflow->bnltk) (1.53.0)\n",
            "Requirement already satisfied: termcolor>=1.1.0 in /usr/local/lib/python3.9/dist-packages (from tensorflow->bnltk) (2.2.0)\n",
            "Requirement already satisfied: jax>=0.3.15 in /usr/local/lib/python3.9/dist-packages (from tensorflow->bnltk) (0.4.7)\n",
            "Requirement already satisfied: tensorflow-io-gcs-filesystem>=0.23.1 in /usr/local/lib/python3.9/dist-packages (from tensorflow->bnltk) (0.32.0)\n",
            "Requirement already satisfied: protobuf!=4.21.0,!=4.21.1,!=4.21.2,!=4.21.3,!=4.21.4,!=4.21.5,<5.0.0dev,>=3.20.3 in /usr/local/lib/python3.9/dist-packages (from tensorflow->bnltk) (3.20.3)\n",
            "Requirement already satisfied: wheel<1.0,>=0.23.0 in /usr/local/lib/python3.9/dist-packages (from astunparse>=1.6.0->tensorflow->bnltk) (0.40.0)\n",
            "Requirement already satisfied: ml-dtypes>=0.0.3 in /usr/local/lib/python3.9/dist-packages (from jax>=0.3.15->tensorflow->bnltk) (0.0.4)\n",
            "Requirement already satisfied: scipy>=1.7 in /usr/local/lib/python3.9/dist-packages (from jax>=0.3.15->tensorflow->bnltk) (1.10.1)\n",
            "Requirement already satisfied: werkzeug>=1.0.1 in /usr/local/lib/python3.9/dist-packages (from tensorboard<2.13,>=2.12->tensorflow->bnltk) (2.2.3)\n",
            "Requirement already satisfied: google-auth-oauthlib<0.5,>=0.4.1 in /usr/local/lib/python3.9/dist-packages (from tensorboard<2.13,>=2.12->tensorflow->bnltk) (0.4.6)\n",
            "Requirement already satisfied: tensorboard-data-server<0.8.0,>=0.7.0 in /usr/local/lib/python3.9/dist-packages (from tensorboard<2.13,>=2.12->tensorflow->bnltk) (0.7.0)\n",
            "Requirement already satisfied: markdown>=2.6.8 in /usr/local/lib/python3.9/dist-packages (from tensorboard<2.13,>=2.12->tensorflow->bnltk) (3.4.3)\n",
            "Requirement already satisfied: google-auth<3,>=1.6.3 in /usr/local/lib/python3.9/dist-packages (from tensorboard<2.13,>=2.12->tensorflow->bnltk) (2.17.0)\n",
            "Requirement already satisfied: tensorboard-plugin-wit>=1.6.0 in /usr/local/lib/python3.9/dist-packages (from tensorboard<2.13,>=2.12->tensorflow->bnltk) (1.8.1)\n",
            "Requirement already satisfied: rsa<5,>=3.1.4 in /usr/local/lib/python3.9/dist-packages (from google-auth<3,>=1.6.3->tensorboard<2.13,>=2.12->tensorflow->bnltk) (4.9)\n",
            "Requirement already satisfied: pyasn1-modules>=0.2.1 in /usr/local/lib/python3.9/dist-packages (from google-auth<3,>=1.6.3->tensorboard<2.13,>=2.12->tensorflow->bnltk) (0.2.8)\n",
            "Requirement already satisfied: cachetools<6.0,>=2.0.0 in /usr/local/lib/python3.9/dist-packages (from google-auth<3,>=1.6.3->tensorboard<2.13,>=2.12->tensorflow->bnltk) (5.3.0)\n",
            "Requirement already satisfied: requests-oauthlib>=0.7.0 in /usr/local/lib/python3.9/dist-packages (from google-auth-oauthlib<0.5,>=0.4.1->tensorboard<2.13,>=2.12->tensorflow->bnltk) (1.3.1)\n",
            "Requirement already satisfied: importlib-metadata>=4.4 in /usr/local/lib/python3.9/dist-packages (from markdown>=2.6.8->tensorboard<2.13,>=2.12->tensorflow->bnltk) (6.1.0)\n",
            "Requirement already satisfied: MarkupSafe>=2.1.1 in /usr/local/lib/python3.9/dist-packages (from werkzeug>=1.0.1->tensorboard<2.13,>=2.12->tensorflow->bnltk) (2.1.2)\n",
            "Requirement already satisfied: zipp>=0.5 in /usr/local/lib/python3.9/dist-packages (from importlib-metadata>=4.4->markdown>=2.6.8->tensorboard<2.13,>=2.12->tensorflow->bnltk) (3.15.0)\n",
            "Requirement already satisfied: pyasn1<0.5.0,>=0.4.6 in /usr/local/lib/python3.9/dist-packages (from pyasn1-modules>=0.2.1->google-auth<3,>=1.6.3->tensorboard<2.13,>=2.12->tensorflow->bnltk) (0.4.8)\n",
            "Requirement already satisfied: oauthlib>=3.0.0 in /usr/local/lib/python3.9/dist-packages (from requests-oauthlib>=0.7.0->google-auth-oauthlib<0.5,>=0.4.1->tensorboard<2.13,>=2.12->tensorflow->bnltk) (3.2.2)\n",
            "Building wheels for collected packages: sklearn\n",
            "  Building wheel for sklearn (setup.py) ... \u001b[?25l\u001b[?25hdone\n",
            "  Created wheel for sklearn: filename=sklearn-0.0.post1-py3-none-any.whl size=2955 sha256=de32b4b1b439e8cbe0db4328d5ba53e99068b466b7ba072f6cc7c69f7ed93ab7\n",
            "  Stored in directory: /root/.cache/pip/wheels/f8/e0/3d/9d0c2020c44a519b9f02ab4fa6d2a4a996c98d79ab2f569fa1\n",
            "Successfully built sklearn\n",
            "Installing collected packages: sklearn, bnltk\n",
            "Successfully installed bnltk-0.7.6 sklearn-0.0.post1\n"
          ]
        }
      ],
      "source": [
        "!pip install bnlp_toolkit\n",
        "!pip install bnltk"
      ]
    },
    {
      "cell_type": "code",
      "source": [
        "import pandas as pd\n",
        "import matplotlib.pyplot as plt\n",
        "import pickle\n",
        "import seaborn as sns\n",
        "import nltk\n",
        "from nltk.corpus import stopwords\n",
        "from wordcloud import WordCloud ,STOPWORDS\n",
        "from nltk.stem import WordNetLemmatizer\n",
        "from sklearn.feature_extraction.text import TfidfVectorizer\n",
        "from sklearn.model_selection import train_test_split\n",
        "from sklearn.metrics import accuracy_score, classification_report\n",
        "from sklearn.linear_model import LogisticRegression\n",
        "from sklearn.tree import DecisionTreeClassifier\n",
        "from sklearn.neighbors import KNeighborsClassifier\n",
        "from sklearn.discriminant_analysis import LinearDiscriminantAnalysis\n",
        "from sklearn.naive_bayes import GaussianNB\n",
        "from sklearn.svm import SVC\n",
        "from nltk.tokenize import word_tokenize \n",
        "\n",
        "import re\n",
        "import warnings\n",
        "warnings.filterwarnings(\"ignore\")\n",
        "import numpy as np\n",
        "import matplotlib.pyplot as plt"
      ],
      "metadata": {
        "id": "OBddh2RyJFO7"
      },
      "execution_count": 2,
      "outputs": []
    },
    {
      "cell_type": "code",
      "source": [
        "from google.colab import drive\n",
        "drive.mount('/content/drive')"
      ],
      "metadata": {
        "id": "NZY-YGGbJFRr",
        "colab": {
          "base_uri": "https://localhost:8080/"
        },
        "outputId": "78324a68-5d95-41c8-e2b6-fdc3dcf2ffea"
      },
      "execution_count": 3,
      "outputs": [
        {
          "output_type": "stream",
          "name": "stdout",
          "text": [
            "Mounted at /content/drive\n"
          ]
        }
      ]
    },
    {
      "cell_type": "code",
      "source": [
        "#read Dataset\n",
        "comments = pd.read_csv('/content/drive/MyDrive/Thesis Ecommerce/dataset_ml.csv', encoding='UTF-8')"
      ],
      "metadata": {
        "id": "B0ScShcgJFUe"
      },
      "execution_count": 4,
      "outputs": []
    },
    {
      "cell_type": "code",
      "source": [
        "comments.head()"
      ],
      "metadata": {
        "id": "dcYzZGnDJFXE",
        "colab": {
          "base_uri": "https://localhost:8080/",
          "height": 206
        },
        "outputId": "eb1f051b-4514-4b56-81ce-1f0d57cb80a5"
      },
      "execution_count": 5,
      "outputs": [
        {
          "output_type": "execute_result",
          "data": {
            "text/plain": [
              "                                            Comments       Labels\n",
              "0                     ব্লুটুথ দিসে কিন্তু পিন দে নাই  Bad_Reviews\n",
              "1                অর্ডার দিতে পাচ্ছি না! একটু দেখবেন!  Bad_Reviews\n",
              "2  ফোনের সাথে পানির বোতল ফ্রি দেওয়ার কথা ছিলো কিন...  Bad_Reviews\n",
              "3  ফালতু একটা ফোন অতিরিক্ত গরম হয়, ফোনে বেশি চার...  Bad_Reviews\n",
              "4  আমি এই ড্রেসটা ওডার করছিলাম কিন্তু\\nআমাকে এটা ...  Bad_Reviews"
            ],
            "text/html": [
              "\n",
              "  <div id=\"df-9d063bc7-3a19-4ac3-88e8-7abae0f8bb00\">\n",
              "    <div class=\"colab-df-container\">\n",
              "      <div>\n",
              "<style scoped>\n",
              "    .dataframe tbody tr th:only-of-type {\n",
              "        vertical-align: middle;\n",
              "    }\n",
              "\n",
              "    .dataframe tbody tr th {\n",
              "        vertical-align: top;\n",
              "    }\n",
              "\n",
              "    .dataframe thead th {\n",
              "        text-align: right;\n",
              "    }\n",
              "</style>\n",
              "<table border=\"1\" class=\"dataframe\">\n",
              "  <thead>\n",
              "    <tr style=\"text-align: right;\">\n",
              "      <th></th>\n",
              "      <th>Comments</th>\n",
              "      <th>Labels</th>\n",
              "    </tr>\n",
              "  </thead>\n",
              "  <tbody>\n",
              "    <tr>\n",
              "      <th>0</th>\n",
              "      <td>ব্লুটুথ দিসে কিন্তু পিন দে নাই</td>\n",
              "      <td>Bad_Reviews</td>\n",
              "    </tr>\n",
              "    <tr>\n",
              "      <th>1</th>\n",
              "      <td>অর্ডার দিতে পাচ্ছি না! একটু দেখবেন!</td>\n",
              "      <td>Bad_Reviews</td>\n",
              "    </tr>\n",
              "    <tr>\n",
              "      <th>2</th>\n",
              "      <td>ফোনের সাথে পানির বোতল ফ্রি দেওয়ার কথা ছিলো কিন...</td>\n",
              "      <td>Bad_Reviews</td>\n",
              "    </tr>\n",
              "    <tr>\n",
              "      <th>3</th>\n",
              "      <td>ফালতু একটা ফোন অতিরিক্ত গরম হয়, ফোনে বেশি চার...</td>\n",
              "      <td>Bad_Reviews</td>\n",
              "    </tr>\n",
              "    <tr>\n",
              "      <th>4</th>\n",
              "      <td>আমি এই ড্রেসটা ওডার করছিলাম কিন্তু\\nআমাকে এটা ...</td>\n",
              "      <td>Bad_Reviews</td>\n",
              "    </tr>\n",
              "  </tbody>\n",
              "</table>\n",
              "</div>\n",
              "      <button class=\"colab-df-convert\" onclick=\"convertToInteractive('df-9d063bc7-3a19-4ac3-88e8-7abae0f8bb00')\"\n",
              "              title=\"Convert this dataframe to an interactive table.\"\n",
              "              style=\"display:none;\">\n",
              "        \n",
              "  <svg xmlns=\"http://www.w3.org/2000/svg\" height=\"24px\"viewBox=\"0 0 24 24\"\n",
              "       width=\"24px\">\n",
              "    <path d=\"M0 0h24v24H0V0z\" fill=\"none\"/>\n",
              "    <path d=\"M18.56 5.44l.94 2.06.94-2.06 2.06-.94-2.06-.94-.94-2.06-.94 2.06-2.06.94zm-11 1L8.5 8.5l.94-2.06 2.06-.94-2.06-.94L8.5 2.5l-.94 2.06-2.06.94zm10 10l.94 2.06.94-2.06 2.06-.94-2.06-.94-.94-2.06-.94 2.06-2.06.94z\"/><path d=\"M17.41 7.96l-1.37-1.37c-.4-.4-.92-.59-1.43-.59-.52 0-1.04.2-1.43.59L10.3 9.45l-7.72 7.72c-.78.78-.78 2.05 0 2.83L4 21.41c.39.39.9.59 1.41.59.51 0 1.02-.2 1.41-.59l7.78-7.78 2.81-2.81c.8-.78.8-2.07 0-2.86zM5.41 20L4 18.59l7.72-7.72 1.47 1.35L5.41 20z\"/>\n",
              "  </svg>\n",
              "      </button>\n",
              "      \n",
              "  <style>\n",
              "    .colab-df-container {\n",
              "      display:flex;\n",
              "      flex-wrap:wrap;\n",
              "      gap: 12px;\n",
              "    }\n",
              "\n",
              "    .colab-df-convert {\n",
              "      background-color: #E8F0FE;\n",
              "      border: none;\n",
              "      border-radius: 50%;\n",
              "      cursor: pointer;\n",
              "      display: none;\n",
              "      fill: #1967D2;\n",
              "      height: 32px;\n",
              "      padding: 0 0 0 0;\n",
              "      width: 32px;\n",
              "    }\n",
              "\n",
              "    .colab-df-convert:hover {\n",
              "      background-color: #E2EBFA;\n",
              "      box-shadow: 0px 1px 2px rgba(60, 64, 67, 0.3), 0px 1px 3px 1px rgba(60, 64, 67, 0.15);\n",
              "      fill: #174EA6;\n",
              "    }\n",
              "\n",
              "    [theme=dark] .colab-df-convert {\n",
              "      background-color: #3B4455;\n",
              "      fill: #D2E3FC;\n",
              "    }\n",
              "\n",
              "    [theme=dark] .colab-df-convert:hover {\n",
              "      background-color: #434B5C;\n",
              "      box-shadow: 0px 1px 3px 1px rgba(0, 0, 0, 0.15);\n",
              "      filter: drop-shadow(0px 1px 2px rgba(0, 0, 0, 0.3));\n",
              "      fill: #FFFFFF;\n",
              "    }\n",
              "  </style>\n",
              "\n",
              "      <script>\n",
              "        const buttonEl =\n",
              "          document.querySelector('#df-9d063bc7-3a19-4ac3-88e8-7abae0f8bb00 button.colab-df-convert');\n",
              "        buttonEl.style.display =\n",
              "          google.colab.kernel.accessAllowed ? 'block' : 'none';\n",
              "\n",
              "        async function convertToInteractive(key) {\n",
              "          const element = document.querySelector('#df-9d063bc7-3a19-4ac3-88e8-7abae0f8bb00');\n",
              "          const dataTable =\n",
              "            await google.colab.kernel.invokeFunction('convertToInteractive',\n",
              "                                                     [key], {});\n",
              "          if (!dataTable) return;\n",
              "\n",
              "          const docLinkHtml = 'Like what you see? Visit the ' +\n",
              "            '<a target=\"_blank\" href=https://colab.research.google.com/notebooks/data_table.ipynb>data table notebook</a>'\n",
              "            + ' to learn more about interactive tables.';\n",
              "          element.innerHTML = '';\n",
              "          dataTable['output_type'] = 'display_data';\n",
              "          await google.colab.output.renderOutput(dataTable, element);\n",
              "          const docLink = document.createElement('div');\n",
              "          docLink.innerHTML = docLinkHtml;\n",
              "          element.appendChild(docLink);\n",
              "        }\n",
              "      </script>\n",
              "    </div>\n",
              "  </div>\n",
              "  "
            ]
          },
          "metadata": {},
          "execution_count": 5
        }
      ]
    },
    {
      "cell_type": "code",
      "source": [
        "comments['Labels'].unique()"
      ],
      "metadata": {
        "id": "yljGx3aaJgV9",
        "colab": {
          "base_uri": "https://localhost:8080/"
        },
        "outputId": "dbd18770-a3f2-496b-e827-7396100e71c4"
      },
      "execution_count": 6,
      "outputs": [
        {
          "output_type": "execute_result",
          "data": {
            "text/plain": [
              "array(['Bad_Reviews', 'Questions', 'Positive_Review'], dtype=object)"
            ]
          },
          "metadata": {},
          "execution_count": 6
        }
      ]
    },
    {
      "cell_type": "code",
      "source": [
        "comments.shape"
      ],
      "metadata": {
        "id": "ZkZIQB8zJgYy",
        "colab": {
          "base_uri": "https://localhost:8080/"
        },
        "outputId": "30d5bdba-ff1c-438f-eafa-c86eaffccb2f"
      },
      "execution_count": 7,
      "outputs": [
        {
          "output_type": "execute_result",
          "data": {
            "text/plain": [
              "(11978, 2)"
            ]
          },
          "metadata": {},
          "execution_count": 7
        }
      ]
    },
    {
      "cell_type": "code",
      "source": [
        "comments.isnull().any()"
      ],
      "metadata": {
        "id": "JRsQRdrTJgbu",
        "colab": {
          "base_uri": "https://localhost:8080/"
        },
        "outputId": "90f20036-6637-4e32-ff8d-c644a5828ab7"
      },
      "execution_count": 8,
      "outputs": [
        {
          "output_type": "execute_result",
          "data": {
            "text/plain": [
              "Comments     True\n",
              "Labels      False\n",
              "dtype: bool"
            ]
          },
          "metadata": {},
          "execution_count": 8
        }
      ]
    },
    {
      "cell_type": "code",
      "source": [
        "# Plot the Class distribution\n",
        "sns.set(font_scale=1.4)\n",
        "comments['Labels'].value_counts().plot(kind='barh', figsize=(8, 6))\n",
        "plt.xlabel(\"Number of Reviews\", labelpad=12)\n",
        "plt.ylabel(\"Labels\", labelpad=12)\n",
        "plt.yticks(rotation = 45)\n",
        "plt.title(\"Dataset Distribution\", y=1.02);"
      ],
      "metadata": {
        "id": "AnIeXvfDJ9mD",
        "colab": {
          "base_uri": "https://localhost:8080/",
          "height": 607
        },
        "outputId": "d520cf3b-f5c3-4184-c140-e864954328a7"
      },
      "execution_count": 10,
      "outputs": [
        {
          "output_type": "display_data",
          "data": {
            "text/plain": [
              "<Figure size 800x600 with 1 Axes>"
            ],
            "image/png": "[encoded data removed]"
          },
          "metadata": {}
        }
      ]
    },
    {
      "cell_type": "code",
      "source": [
        "comments['Comment_length'] = comments['Comments'].str.len()\n",
        "print(comments['Comment_length'])"
      ],
      "metadata": {
        "id": "LaB71AKkKUY7",
        "colab": {
          "base_uri": "https://localhost:8080/"
        },
        "outputId": "c2197816-3673-487a-9bdf-91205f917228"
      },
      "execution_count": 11,
      "outputs": [
        {
          "output_type": "stream",
          "name": "stdout",
          "text": [
            "0         30.0\n",
            "1         35.0\n",
            "2         88.0\n",
            "3        223.0\n",
            "4        205.0\n",
            "         ...  \n",
            "11973    340.0\n",
            "11974    440.0\n",
            "11975    391.0\n",
            "11976    152.0\n",
            "11977    215.0\n",
            "Name: Comment_length, Length: 11978, dtype: float64\n"
          ]
        }
      ]
    },
    {
      "cell_type": "code",
      "source": [
        "sns.distplot(comments['Comment_length']).set_title('Comment length distribution');"
      ],
      "metadata": {
        "id": "7MCLNakjKUb_",
        "colab": {
          "base_uri": "https://localhost:8080/",
          "height": 494
        },
        "outputId": "393485e0-1ca2-437c-d149-83271d98d331"
      },
      "execution_count": 12,
      "outputs": [
        {
          "output_type": "display_data",
          "data": {
            "text/plain": [
              "<Figure size 640x480 with 1 Axes>"
            ],
            "image/png": "[encoded data removed]"
          },
          "metadata": {}
        }
      ]
    },
    {
      "cell_type": "code",
      "source": [
        "!pip install python-bidi\n",
        "from wordcloud import WordCloud\n",
        "from matplotlib import pyplot as plt\n",
        "from bidi.algorithm import get_display"
      ],
      "metadata": {
        "id": "SWxf0_anLJ5-",
        "colab": {
          "base_uri": "https://localhost:8080/"
        },
        "outputId": "40dfa533-862e-415d-898f-19458de25814"
      },
      "execution_count": 13,
      "outputs": [
        {
          "output_type": "stream",
          "name": "stdout",
          "text": [
            "Looking in indexes: https://pypi.org/simple, https://us-python.pkg.dev/colab-wheels/public/simple/\n",
            "Collecting python-bidi\n",
            "  Downloading python_bidi-0.4.2-py2.py3-none-any.whl (30 kB)\n",
            "Requirement already satisfied: six in /usr/local/lib/python3.9/dist-packages (from python-bidi) (1.16.0)\n",
            "Installing collected packages: python-bidi\n",
            "Successfully installed python-bidi-0.4.2\n"
          ]
        }
      ]
    },
    {
      "cell_type": "code",
      "source": [
        "def create_wordcloud(words):\n",
        "    wordcloud = WordCloud(width=800, height=500, random_state=21, max_font_size=110).generate(words)\n",
        "    plt.figure(figsize=(10, 7))\n",
        "    plt.imshow(wordcloud, interpolation=\"bilinear\")\n",
        "    plt.axis('off')\n",
        "    plt.show()"
      ],
      "metadata": {
        "id": "gpa1beBTKUe6"
      },
      "execution_count": 14,
      "outputs": []
    },
    {
      "cell_type": "code",
      "source": [
        "subset=comments[comments.Labels==\"Positive_Review\"]\n",
        "text=subset.Comments.values\n",
        "words =\" \".join(text)\n",
        "#create_wordcloud(words)"
      ],
      "metadata": {
        "id": "69UEyj7ZLJ3F"
      },
      "execution_count": 16,
      "outputs": []
    },
    {
      "cell_type": "markdown",
      "source": [
        "# Preprocessing Steps"
      ],
      "metadata": {
        "id": "PI5QYIVQkiyV"
      }
    },
    {
      "cell_type": "code",
      "source": [
        "# Cleaning Data [Remove unncessary symbols]\n",
        "def cleaning_documents(articles):\n",
        "      '''\n",
        "      This function will clean the news articles by removing punctuation marks and stopwords.\n",
        "\n",
        "      Args:\n",
        "      articles: a news text(str)\n",
        "\n",
        "      returns:\n",
        "      news: clean text (str)\n",
        "      '''\n",
        "      news = articles.replace('\\n',' ')\n",
        "      news = re.sub('[^\\u0980-\\u09FF]',' ',str(news)) #removing unnecessary punctuation\n",
        "      # stopwords removal\n",
        "      stp = open('/content/drive/MyDrive/Thesis Ecommerce/stopwords-bn.txt','r',encoding='utf-8').read().split()\n",
        "      result = news.split()\n",
        "      news = [word.strip() for word in result if word not in stp ]\n",
        "      news =\" \".join(news)\n",
        "      return news"
      ],
      "metadata": {
        "id": "FUgye2XjLKEb"
      },
      "execution_count": 17,
      "outputs": []
    },
    {
      "cell_type": "code",
      "source": [
        "# Apply the function into the dataframe\n",
        "comments['cleaned'] = comments['Comments'].astype(str).apply(cleaning_documents) "
      ],
      "metadata": {
        "id": "tD-s-HaTNKHs"
      },
      "execution_count": 18,
      "outputs": []
    },
    {
      "cell_type": "code",
      "source": [
        "sample_data = [200,50,600,700,800,900,960,970,1200,1300,1400,1500,1600,1700]\n",
        "# print some cleaned reviews from the dataset\n",
        "\n",
        "for i in sample_data:\n",
        "     print('Original:\\n',comments.Comments[i],'\\nCleaned:\\n',\n",
        "           comments.cleaned[i],'\\n','Sentiment:-- ',comments.Labels[i],'\\n')"
      ],
      "metadata": {
        "id": "aFWVLXXANKOG",
        "colab": {
          "base_uri": "https://localhost:8080/"
        },
        "outputId": "8774c1d2-6bff-4215-c616-9ce17f13c084"
      },
      "execution_count": 19,
      "outputs": [
        {
          "output_type": "stream",
          "name": "stdout",
          "text": [
            "Original:\n",
            " দারাজ থেকে কিনলাম এক জোড়া ২২ টাকা করে। পরে দেখলাম লোকাল দোকানে বিক্রি করে একজোড়া ১০ টাকা করে। অনলাইনে ডাকাতি শুরু করছে। \n",
            "Cleaned:\n",
            " দারাজ কিনলাম এক জোড়া ২২ টাকা দেখলাম লোকাল দোকানে বিক্রি একজোড়া ১০ টাকা অনলাইনে ডাকাতি \n",
            " Sentiment:--  Bad_Reviews \n",
            "\n",
            "Original:\n",
            " অক্ষত অবস্থায় সব কিছু পেয়ে অনেক খুশী হয়েছি। অসংখ্য ধন্যবাদ। \n",
            "Cleaned:\n",
            " অক্ষত অবস্থায় পেয়ে খুশী হয়েছি অসংখ্য ধন্যবাদ \n",
            " Sentiment:--  Positive_Review \n",
            "\n",
            "Original:\n",
            " ড্রেসটা অনেক বেশি সুন্দর ধন্যবাদ \n",
            "Cleaned:\n",
            " ড্রেসটা সুন্দর ধন্যবাদ \n",
            " Sentiment:--  Positive_Review \n",
            "\n",
            "Original:\n",
            " বইটি আপনাদের জীবনের মেন্টর হিসেবে কাজ করবে। আপনাকে আপনার মত করেই শিখাবে জীবনের প্রতিটি মূহূর্তে পরিস্থিতি যেমনই হোক না কেন কীভাবে মাথা উঁচু করে দাঁড়াতে হয়। \n",
            "Cleaned:\n",
            " বইটি আপনাদের জীবনের মেন্টর হিসেবে আপনাকে মত শিখাবে জীবনের প্রতিটি মূহূর্তে পরিস্থিতি যেমনই কীভাবে মাথা উঁচু দাঁড়াতে \n",
            " Sentiment:--  Positive_Review \n",
            "\n",
            "Original:\n",
            " মেমোরি কাড ডোকানো জাবে কি \n",
            "Cleaned:\n",
            " মেমোরি কাড ডোকানো জাবে \n",
            " Sentiment:--  Questions \n",
            "\n",
            "Original:\n",
            " ভাইয়া এটা কি আপনাদের ওয়েবসাইটে এটা কি এখন আর নেই \n",
            "Cleaned:\n",
            " ভাইয়া আপনাদের ওয়েবসাইটে \n",
            " Sentiment:--  Questions \n",
            "\n",
            "Original:\n",
            " পার্পল কালার কি আছে  \n",
            "Cleaned:\n",
            " পার্পল কালার \n",
            " Sentiment:--  Questions \n",
            "\n",
            "Original:\n",
            " ক্যাশ অন ডেলিভারি হবেনা \n",
            "Cleaned:\n",
            " ক্যাশ অন ডেলিভারি হবেনা \n",
            " Sentiment:--  Questions \n",
            "\n",
            "Original:\n",
            " এই রেফ্রিজারেটরটি আপনার জন্য কীভাবে কাজ করছে? কোন আফসোস? \n",
            "Cleaned:\n",
            " রেফ্রিজারেটরটি কীভাবে আফসোস \n",
            " Sentiment:--  Questions \n",
            "\n",
            "Original:\n",
            " ওয়াইন গ্লাস ধারকরা কি ভাল কাজ করেন? এটা কি চীনে কোমল? \n",
            "Cleaned:\n",
            " ওয়াইন গ্লাস ধারকরা ভাল চীনে কোমল \n",
            " Sentiment:--  Questions \n",
            "\n",
            "Original:\n",
            " offer হলে কিভাবে জানতে পারবো \n",
            "Cleaned:\n",
            " কিভাবে পারবো \n",
            " Sentiment:--  Questions \n",
            "\n",
            "Original:\n",
            " একান্ত ব্যক্তিগত ডায়েরি থেকে ইতিহাসের অসামান্য দলিল হয়ে ওঠা কালজয়ী এক গ্রন্থ ‘একাত্তরের দিনগুলি।’ শহীদ জননী জাহানারা ইমাম রচিত এই দিনলিপিতে মুক্তিযুদ্ধকালীন নানা ঘটণার বাস্তব চিত্র মূর্ত হয়ে উঠেছে। \n",
            "Cleaned:\n",
            " একান্ত ব্যক্তিগত ডায়েরি ইতিহাসের অসামান্য দলিল হয়ে ওঠা কালজয়ী এক গ্রন্থ একাত্তরের দিনগুলি শহীদ জননী জাহানারা ইমাম রচিত দিনলিপিতে মুক্তিযুদ্ধকালীন ঘটণার বাস্তব চিত্র মূর্ত হয়ে উঠেছে \n",
            " Sentiment:--  Positive_Review \n",
            "\n",
            "Original:\n",
            " আজ ফিস শপ থেকে বেশ কয়েক রকমের মাছ কেনা হয়েছে।এদের কথার সাথে কাজের মিল রয়েছে।ব্যবহার ভালো, সময়মতো ডেলিভারি দিয়েছে। পণ্যের মান যদি ভালো রাখতে পারে,তবে সবসময় মাছ নেবো,সেই কথা দিতে পারি। \n",
            "Cleaned:\n",
            " ফিস শপ রকমের মাছ কেনা হয়েছে কথার সাথে কাজের মিল রয়েছে ভালো সময়মতো ডেলিভারি দিয়েছে পণ্যের মান ভালো রাখতে সবসময় মাছ নেবো কথা \n",
            " Sentiment:--  Positive_Review \n",
            "\n",
            "Original:\n",
            " কাল হ্যাপি আওয়ার জামদানি শাড়ি অডার করে আজই হাতে পেয়েছি,আমি এই প্রথম ঢাকাইয়া জামদানি থেকে পন্য কিনলাম,শাড়ি দুইটা সত্য অনেক সুন্দর। \n",
            "Cleaned:\n",
            " কাল হ্যাপি আওয়ার জামদানি শাড়ি অডার আজই হাতে পেয়েছি ঢাকাইয়া জামদানি পন্য কিনলাম শাড়ি দুইটা সত্য সুন্দর \n",
            " Sentiment:--  Positive_Review \n",
            "\n"
          ]
        }
      ]
    },
    {
      "cell_type": "markdown",
      "source": [
        "# Dataset Summary"
      ],
      "metadata": {
        "id": "lFe2j-FYpB4l"
      }
    },
    {
      "cell_type": "code",
      "source": [
        "def data_summary(dataset):\n",
        "  '''\n",
        "  This function will print the summary of the dataset\n",
        "\n",
        "  Args:\n",
        "  dataset: cleaned texts\n",
        "\n",
        "  returns:\n",
        "  documents: Number of document per class\n",
        "  words: Number of words per class\n",
        "  u_words: Number of unique words per class\n",
        "  class_label: name of the categories\n",
        "  '''\n",
        "  documents = []\n",
        "  words = []\n",
        "  u_words = []\n",
        "  #total_u_word = [word.strip().lower() for t in list(dataset.cleaned) for word in t.strip().split()]\n",
        "  # find class names\n",
        "  class_label = [k for k,v in dataset.Labels.value_counts().to_dict().items()]\n",
        "  for label in class_label: \n",
        "    word_list = [word.strip().lower() for t in list(comments[comments.Labels==label].cleaned) for word in t.strip().split()]\n",
        "    counts = dict()\n",
        "    for word in word_list:\n",
        "      counts[word] = counts.get(word, 0)+1\n",
        "    # sort the dictionary of word list  \n",
        "    ordered = sorted(counts.items(), key= lambda item: item[1],reverse = True)\n",
        "    # Documents per class\n",
        "    documents.append(len(list(comments[comments.Labels==label].cleaned)))\n",
        "    # Total Word per class\n",
        "    words.append(len(word_list))\n",
        "    # Unique words per class \n",
        "    u_words.append(len(np.unique(word_list)))\n",
        "       \n",
        "    print(\"\\nClass Name : \",label)\n",
        "    print(\"Number of Documents:{}\".format(len(list(comments[comments.Labels==label].cleaned))))  \n",
        "    print(\"Number of Words:{}\".format(len(word_list))) \n",
        "    print(\"Number of Unique Words:{}\".format(len(np.unique(word_list)))) \n",
        "    print(\"Most Frequent Words:\\n\")\n",
        "    for k,v in ordered[:10]:\n",
        "      print(\"{}\\t{}\".format(k,v))\n",
        "  return documents,words,u_words,class_label\n",
        "\n",
        "# pass the whole dataset into the function\n",
        "\n",
        "documents,words,u_words,class_names = data_summary(comments)"
      ],
      "metadata": {
        "id": "1Tyf1VGmnViv",
        "colab": {
          "base_uri": "https://localhost:8080/"
        },
        "outputId": "0d3e0f95-47b7-4567-f858-276de1874b9b"
      },
      "execution_count": 20,
      "outputs": [
        {
          "output_type": "stream",
          "name": "stdout",
          "text": [
            "\n",
            "Class Name :  Questions\n",
            "Number of Documents:4169\n",
            "Number of Words:24718\n",
            "Number of Unique Words:5700\n",
            "Most Frequent Words:\n",
            "\n",
            "ফিট\t525\n",
            "সাথে\t416\n",
            "মডেল\t404\n",
            "ফিল্টার\t218\n",
            "প্রতিস্থাপন\t199\n",
            "ধন্যবাদ\t166\n",
            "কেনমোর\t160\n",
            "আসে\t152\n",
            "দরকার\t151\n",
            "কীভাবে\t151\n",
            "\n",
            "Class Name :  Bad_Reviews\n",
            "Number of Documents:3938\n",
            "Number of Words:76835\n",
            "Number of Unique Words:10922\n",
            "Most Frequent Words:\n",
            "\n",
            "খারাপ\t1044\n",
            "ভাল\t741\n",
            "অর্ডার\t601\n",
            "খাবার\t600\n",
            "টুকরো\t590\n",
            "করেছি\t510\n",
            "সবচেয়ে\t486\n",
            "সাথে\t448\n",
            "স্বাদ\t421\n",
            "খাবারের\t400\n",
            "\n",
            "Class Name :  Positive_Review\n",
            "Number of Documents:3871\n",
            "Number of Words:51036\n",
            "Number of Unique Words:8985\n",
            "Most Frequent Words:\n",
            "\n",
            "ভাল\t901\n",
            "দুর্দান্ত\t790\n",
            "পছন্দ\t767\n",
            "সাথে\t656\n",
            "সুন্দর\t484\n",
            "ভালো\t429\n",
            "সহজ\t351\n",
            "করেছি\t260\n",
            "বই\t259\n",
            "খাবার\t254\n"
          ]
        }
      ]
    },
    {
      "cell_type": "markdown",
      "source": [
        "# Data Matrix"
      ],
      "metadata": {
        "id": "9JpOKtV2pHYc"
      }
    },
    {
      "cell_type": "code",
      "source": [
        "data_matrix = pd.DataFrame({'Total Documents':documents,\n",
        "                            'Total Words':words,\n",
        "                            'Unique Words':u_words,\n",
        "                            'Class Names':class_names})\n",
        "data_matrix"
      ],
      "metadata": {
        "id": "gAmE5dFdooxX",
        "colab": {
          "base_uri": "https://localhost:8080/",
          "height": 143
        },
        "outputId": "75b02281-a520-4094-ea08-e808ebe2a084"
      },
      "execution_count": 21,
      "outputs": [
        {
          "output_type": "execute_result",
          "data": {
            "text/plain": [
              "   Total Documents  Total Words  Unique Words      Class Names\n",
              "0             4169        24718          5700        Questions\n",
              "1             3938        76835         10922      Bad_Reviews\n",
              "2             3871        51036          8985  Positive_Review"
            ],
            "text/html": [
              "\n",
              "  <div id=\"df-6e7055f8-0306-4f33-8e35-556af1bca3ba\">\n",
              "    <div class=\"colab-df-container\">\n",
              "      <div>\n",
              "<style scoped>\n",
              "    .dataframe tbody tr th:only-of-type {\n",
              "        vertical-align: middle;\n",
              "    }\n",
              "\n",
              "    .dataframe tbody tr th {\n",
              "        vertical-align: top;\n",
              "    }\n",
              "\n",
              "    .dataframe thead th {\n",
              "        text-align: right;\n",
              "    }\n",
              "</style>\n",
              "<table border=\"1\" class=\"dataframe\">\n",
              "  <thead>\n",
              "    <tr style=\"text-align: right;\">\n",
              "      <th></th>\n",
              "      <th>Total Documents</th>\n",
              "      <th>Total Words</th>\n",
              "      <th>Unique Words</th>\n",
              "      <th>Class Names</th>\n",
              "    </tr>\n",
              "  </thead>\n",
              "  <tbody>\n",
              "    <tr>\n",
              "      <th>0</th>\n",
              "      <td>4169</td>\n",
              "      <td>24718</td>\n",
              "      <td>5700</td>\n",
              "      <td>Questions</td>\n",
              "    </tr>\n",
              "    <tr>\n",
              "      <th>1</th>\n",
              "      <td>3938</td>\n",
              "      <td>76835</td>\n",
              "      <td>10922</td>\n",
              "      <td>Bad_Reviews</td>\n",
              "    </tr>\n",
              "    <tr>\n",
              "      <th>2</th>\n",
              "      <td>3871</td>\n",
              "      <td>51036</td>\n",
              "      <td>8985</td>\n",
              "      <td>Positive_Review</td>\n",
              "    </tr>\n",
              "  </tbody>\n",
              "</table>\n",
              "</div>\n",
              "      <button class=\"colab-df-convert\" onclick=\"convertToInteractive('df-6e7055f8-0306-4f33-8e35-556af1bca3ba')\"\n",
              "              title=\"Convert this dataframe to an interactive table.\"\n",
              "              style=\"display:none;\">\n",
              "        \n",
              "  <svg xmlns=\"http://www.w3.org/2000/svg\" height=\"24px\"viewBox=\"0 0 24 24\"\n",
              "       width=\"24px\">\n",
              "    <path d=\"M0 0h24v24H0V0z\" fill=\"none\"/>\n",
              "    <path d=\"M18.56 5.44l.94 2.06.94-2.06 2.06-.94-2.06-.94-.94-2.06-.94 2.06-2.06.94zm-11 1L8.5 8.5l.94-2.06 2.06-.94-2.06-.94L8.5 2.5l-.94 2.06-2.06.94zm10 10l.94 2.06.94-2.06 2.06-.94-2.06-.94-.94-2.06-.94 2.06-2.06.94z\"/><path d=\"M17.41 7.96l-1.37-1.37c-.4-.4-.92-.59-1.43-.59-.52 0-1.04.2-1.43.59L10.3 9.45l-7.72 7.72c-.78.78-.78 2.05 0 2.83L4 21.41c.39.39.9.59 1.41.59.51 0 1.02-.2 1.41-.59l7.78-7.78 2.81-2.81c.8-.78.8-2.07 0-2.86zM5.41 20L4 18.59l7.72-7.72 1.47 1.35L5.41 20z\"/>\n",
              "  </svg>\n",
              "      </button>\n",
              "      \n",
              "  <style>\n",
              "    .colab-df-container {\n",
              "      display:flex;\n",
              "      flex-wrap:wrap;\n",
              "      gap: 12px;\n",
              "    }\n",
              "\n",
              "    .colab-df-convert {\n",
              "      background-color: #E8F0FE;\n",
              "      border: none;\n",
              "      border-radius: 50%;\n",
              "      cursor: pointer;\n",
              "      display: none;\n",
              "      fill: #1967D2;\n",
              "      height: 32px;\n",
              "      padding: 0 0 0 0;\n",
              "      width: 32px;\n",
              "    }\n",
              "\n",
              "    .colab-df-convert:hover {\n",
              "      background-color: #E2EBFA;\n",
              "      box-shadow: 0px 1px 2px rgba(60, 64, 67, 0.3), 0px 1px 3px 1px rgba(60, 64, 67, 0.15);\n",
              "      fill: #174EA6;\n",
              "    }\n",
              "\n",
              "    [theme=dark] .colab-df-convert {\n",
              "      background-color: #3B4455;\n",
              "      fill: #D2E3FC;\n",
              "    }\n",
              "\n",
              "    [theme=dark] .colab-df-convert:hover {\n",
              "      background-color: #434B5C;\n",
              "      box-shadow: 0px 1px 3px 1px rgba(0, 0, 0, 0.15);\n",
              "      filter: drop-shadow(0px 1px 2px rgba(0, 0, 0, 0.3));\n",
              "      fill: #FFFFFF;\n",
              "    }\n",
              "  </style>\n",
              "\n",
              "      <script>\n",
              "        const buttonEl =\n",
              "          document.querySelector('#df-6e7055f8-0306-4f33-8e35-556af1bca3ba button.colab-df-convert');\n",
              "        buttonEl.style.display =\n",
              "          google.colab.kernel.accessAllowed ? 'block' : 'none';\n",
              "\n",
              "        async function convertToInteractive(key) {\n",
              "          const element = document.querySelector('#df-6e7055f8-0306-4f33-8e35-556af1bca3ba');\n",
              "          const dataTable =\n",
              "            await google.colab.kernel.invokeFunction('convertToInteractive',\n",
              "                                                     [key], {});\n",
              "          if (!dataTable) return;\n",
              "\n",
              "          const docLinkHtml = 'Like what you see? Visit the ' +\n",
              "            '<a target=\"_blank\" href=https://colab.research.google.com/notebooks/data_table.ipynb>data table notebook</a>'\n",
              "            + ' to learn more about interactive tables.';\n",
              "          element.innerHTML = '';\n",
              "          dataTable['output_type'] = 'display_data';\n",
              "          await google.colab.output.renderOutput(dataTable, element);\n",
              "          const docLink = document.createElement('div');\n",
              "          docLink.innerHTML = docLinkHtml;\n",
              "          element.appendChild(docLink);\n",
              "        }\n",
              "      </script>\n",
              "    </div>\n",
              "  </div>\n",
              "  "
            ]
          },
          "metadata": {},
          "execution_count": 21
        }
      ]
    },
    {
      "cell_type": "markdown",
      "source": [
        "# Label Encoding"
      ],
      "metadata": {
        "id": "ZxF90NRqo8Oh"
      }
    },
    {
      "cell_type": "code",
      "source": [
        "from sklearn import preprocessing \n",
        "label_encoder = preprocessing.LabelEncoder() \n",
        "comments['Types_target']= label_encoder.fit_transform(comments['Labels']) "
      ],
      "metadata": {
        "id": "3SK_MurqNs5E"
      },
      "execution_count": 22,
      "outputs": []
    },
    {
      "cell_type": "code",
      "source": [
        "comments.head(100)"
      ],
      "metadata": {
        "id": "Zw6ryvWVNs-A",
        "colab": {
          "base_uri": "https://localhost:8080/",
          "height": 554
        },
        "outputId": "1ab6539d-19f8-4c53-a99d-d41a0a7c5ced"
      },
      "execution_count": 23,
      "outputs": [
        {
          "output_type": "execute_result",
          "data": {
            "text/plain": [
              "                                             Comments           Labels  \\\n",
              "0                      ব্লুটুথ দিসে কিন্তু পিন দে নাই      Bad_Reviews   \n",
              "1                 অর্ডার দিতে পাচ্ছি না! একটু দেখবেন!      Bad_Reviews   \n",
              "2   ফোনের সাথে পানির বোতল ফ্রি দেওয়ার কথা ছিলো কিন...      Bad_Reviews   \n",
              "3   ফালতু একটা ফোন অতিরিক্ত গরম হয়, ফোনে বেশি চার...      Bad_Reviews   \n",
              "4   আমি এই ড্রেসটা ওডার করছিলাম কিন্তু\\nআমাকে এটা ...      Bad_Reviews   \n",
              "..                                                ...              ...   \n",
              "95  সবচেয়ে ভালো লাগার বিষয় ছিল ... এত দ্রুত ডেলিভা...  Positive_Review   \n",
              "96  যেমন কথা তেমন কাজ মাশাআল্লাহ অসম্ভব সুন্দর হইছ...  Positive_Review   \n",
              "97  আপুর প্রতিটি কাজ অসাধারণ মন ছুয়ে যায় আপনার ও চ...  Positive_Review   \n",
              "98  সুন্দর ব্যবহার ।অনেক অনেক ধন্যবাদ এত সুন্দর শা...  Positive_Review   \n",
              "99                                শাড়ীটা খুবই সুন্দর  Positive_Review   \n",
              "\n",
              "    Comment_length                                            cleaned  \\\n",
              "0             30.0                                ব্লুটুথ দিসে পিন দে   \n",
              "1             35.0                          অর্ডার পাচ্ছি একটু দেখবেন   \n",
              "2             88.0  ফোনের সাথে পানির বোতল ফ্রি দেওয়ার কথা ছিলো দেয়...   \n",
              "3            223.0  ফালতু একটা ফোন অতিরিক্ত গরম ফোনে চার্জ মোবাইলে...   \n",
              "4            205.0  ড্রেসটা ওডার করছিলাম হয়নি সালোয়ার কামিজের কালা...   \n",
              "..             ...                                                ...   \n",
              "95           174.0  সবচেয়ে ভালো লাগার বিষয় দ্রুত ডেলিভারি চিন্তাই ...   \n",
              "96            83.0  কথা মাশাআল্লাহ অসম্ভব সুন্দর হইছে ড্রেস টা মেয়...   \n",
              "97            68.0      আপুর প্রতিটি অসাধারণ মন ছুয়ে যায় চাইলে অর্ডার   \n",
              "98            70.0               সুন্দর ধন্যবাদ সুন্দর শাড়িটা দেয়ার   \n",
              "99            19.0                                শাড়ীটা খুবই সুন্দর   \n",
              "\n",
              "    Types_target  \n",
              "0              0  \n",
              "1              0  \n",
              "2              0  \n",
              "3              0  \n",
              "4              0  \n",
              "..           ...  \n",
              "95             1  \n",
              "96             1  \n",
              "97             1  \n",
              "98             1  \n",
              "99             1  \n",
              "\n",
              "[100 rows x 5 columns]"
            ],
            "text/html": [
              "\n",
              "  <div id=\"df-12437ab6-533d-4b29-bcea-a279a85abca8\">\n",
              "    <div class=\"colab-df-container\">\n",
              "      <div>\n",
              "<style scoped>\n",
              "    .dataframe tbody tr th:only-of-type {\n",
              "        vertical-align: middle;\n",
              "    }\n",
              "\n",
              "    .dataframe tbody tr th {\n",
              "        vertical-align: top;\n",
              "    }\n",
              "\n",
              "    .dataframe thead th {\n",
              "        text-align: right;\n",
              "    }\n",
              "</style>\n",
              "<table border=\"1\" class=\"dataframe\">\n",
              "  <thead>\n",
              "    <tr style=\"text-align: right;\">\n",
              "      <th></th>\n",
              "      <th>Comments</th>\n",
              "      <th>Labels</th>\n",
              "      <th>Comment_length</th>\n",
              "      <th>cleaned</th>\n",
              "      <th>Types_target</th>\n",
              "    </tr>\n",
              "  </thead>\n",
              "  <tbody>\n",
              "    <tr>\n",
              "      <th>0</th>\n",
              "      <td>ব্লুটুথ দিসে কিন্তু পিন দে নাই</td>\n",
              "      <td>Bad_Reviews</td>\n",
              "      <td>30.0</td>\n",
              "      <td>ব্লুটুথ দিসে পিন দে</td>\n",
              "      <td>0</td>\n",
              "    </tr>\n",
              "    <tr>\n",
              "      <th>1</th>\n",
              "      <td>অর্ডার দিতে পাচ্ছি না! একটু দেখবেন!</td>\n",
              "      <td>Bad_Reviews</td>\n",
              "      <td>35.0</td>\n",
              "      <td>অর্ডার পাচ্ছি একটু দেখবেন</td>\n",
              "      <td>0</td>\n",
              "    </tr>\n",
              "    <tr>\n",
              "      <th>2</th>\n",
              "      <td>ফোনের সাথে পানির বোতল ফ্রি দেওয়ার কথা ছিলো কিন...</td>\n",
              "      <td>Bad_Reviews</td>\n",
              "      <td>88.0</td>\n",
              "      <td>ফোনের সাথে পানির বোতল ফ্রি দেওয়ার কথা ছিলো দেয়...</td>\n",
              "      <td>0</td>\n",
              "    </tr>\n",
              "    <tr>\n",
              "      <th>3</th>\n",
              "      <td>ফালতু একটা ফোন অতিরিক্ত গরম হয়, ফোনে বেশি চার...</td>\n",
              "      <td>Bad_Reviews</td>\n",
              "      <td>223.0</td>\n",
              "      <td>ফালতু একটা ফোন অতিরিক্ত গরম ফোনে চার্জ মোবাইলে...</td>\n",
              "      <td>0</td>\n",
              "    </tr>\n",
              "    <tr>\n",
              "      <th>4</th>\n",
              "      <td>আমি এই ড্রেসটা ওডার করছিলাম কিন্তু\\nআমাকে এটা ...</td>\n",
              "      <td>Bad_Reviews</td>\n",
              "      <td>205.0</td>\n",
              "      <td>ড্রেসটা ওডার করছিলাম হয়নি সালোয়ার কামিজের কালা...</td>\n",
              "      <td>0</td>\n",
              "    </tr>\n",
              "    <tr>\n",
              "      <th>...</th>\n",
              "      <td>...</td>\n",
              "      <td>...</td>\n",
              "      <td>...</td>\n",
              "      <td>...</td>\n",
              "      <td>...</td>\n",
              "    </tr>\n",
              "    <tr>\n",
              "      <th>95</th>\n",
              "      <td>সবচেয়ে ভালো লাগার বিষয় ছিল ... এত দ্রুত ডেলিভা...</td>\n",
              "      <td>Positive_Review</td>\n",
              "      <td>174.0</td>\n",
              "      <td>সবচেয়ে ভালো লাগার বিষয় দ্রুত ডেলিভারি চিন্তাই ...</td>\n",
              "      <td>1</td>\n",
              "    </tr>\n",
              "    <tr>\n",
              "      <th>96</th>\n",
              "      <td>যেমন কথা তেমন কাজ মাশাআল্লাহ অসম্ভব সুন্দর হইছ...</td>\n",
              "      <td>Positive_Review</td>\n",
              "      <td>83.0</td>\n",
              "      <td>কথা মাশাআল্লাহ অসম্ভব সুন্দর হইছে ড্রেস টা মেয়...</td>\n",
              "      <td>1</td>\n",
              "    </tr>\n",
              "    <tr>\n",
              "      <th>97</th>\n",
              "      <td>আপুর প্রতিটি কাজ অসাধারণ মন ছুয়ে যায় আপনার ও চ...</td>\n",
              "      <td>Positive_Review</td>\n",
              "      <td>68.0</td>\n",
              "      <td>আপুর প্রতিটি অসাধারণ মন ছুয়ে যায় চাইলে অর্ডার</td>\n",
              "      <td>1</td>\n",
              "    </tr>\n",
              "    <tr>\n",
              "      <th>98</th>\n",
              "      <td>সুন্দর ব্যবহার ।অনেক অনেক ধন্যবাদ এত সুন্দর শা...</td>\n",
              "      <td>Positive_Review</td>\n",
              "      <td>70.0</td>\n",
              "      <td>সুন্দর ধন্যবাদ সুন্দর শাড়িটা দেয়ার</td>\n",
              "      <td>1</td>\n",
              "    </tr>\n",
              "    <tr>\n",
              "      <th>99</th>\n",
              "      <td>শাড়ীটা খুবই সুন্দর</td>\n",
              "      <td>Positive_Review</td>\n",
              "      <td>19.0</td>\n",
              "      <td>শাড়ীটা খুবই সুন্দর</td>\n",
              "      <td>1</td>\n",
              "    </tr>\n",
              "  </tbody>\n",
              "</table>\n",
              "<p>100 rows × 5 columns</p>\n",
              "</div>\n",
              "      <button class=\"colab-df-convert\" onclick=\"convertToInteractive('df-12437ab6-533d-4b29-bcea-a279a85abca8')\"\n",
              "              title=\"Convert this dataframe to an interactive table.\"\n",
              "              style=\"display:none;\">\n",
              "        \n",
              "  <svg xmlns=\"http://www.w3.org/2000/svg\" height=\"24px\"viewBox=\"0 0 24 24\"\n",
              "       width=\"24px\">\n",
              "    <path d=\"M0 0h24v24H0V0z\" fill=\"none\"/>\n",
              "    <path d=\"M18.56 5.44l.94 2.06.94-2.06 2.06-.94-2.06-.94-.94-2.06-.94 2.06-2.06.94zm-11 1L8.5 8.5l.94-2.06 2.06-.94-2.06-.94L8.5 2.5l-.94 2.06-2.06.94zm10 10l.94 2.06.94-2.06 2.06-.94-2.06-.94-.94-2.06-.94 2.06-2.06.94z\"/><path d=\"M17.41 7.96l-1.37-1.37c-.4-.4-.92-.59-1.43-.59-.52 0-1.04.2-1.43.59L10.3 9.45l-7.72 7.72c-.78.78-.78 2.05 0 2.83L4 21.41c.39.39.9.59 1.41.59.51 0 1.02-.2 1.41-.59l7.78-7.78 2.81-2.81c.8-.78.8-2.07 0-2.86zM5.41 20L4 18.59l7.72-7.72 1.47 1.35L5.41 20z\"/>\n",
              "  </svg>\n",
              "      </button>\n",
              "      \n",
              "  <style>\n",
              "    .colab-df-container {\n",
              "      display:flex;\n",
              "      flex-wrap:wrap;\n",
              "      gap: 12px;\n",
              "    }\n",
              "\n",
              "    .colab-df-convert {\n",
              "      background-color: #E8F0FE;\n",
              "      border: none;\n",
              "      border-radius: 50%;\n",
              "      cursor: pointer;\n",
              "      display: none;\n",
              "      fill: #1967D2;\n",
              "      height: 32px;\n",
              "      padding: 0 0 0 0;\n",
              "      width: 32px;\n",
              "    }\n",
              "\n",
              "    .colab-df-convert:hover {\n",
              "      background-color: #E2EBFA;\n",
              "      box-shadow: 0px 1px 2px rgba(60, 64, 67, 0.3), 0px 1px 3px 1px rgba(60, 64, 67, 0.15);\n",
              "      fill: #174EA6;\n",
              "    }\n",
              "\n",
              "    [theme=dark] .colab-df-convert {\n",
              "      background-color: #3B4455;\n",
              "      fill: #D2E3FC;\n",
              "    }\n",
              "\n",
              "    [theme=dark] .colab-df-convert:hover {\n",
              "      background-color: #434B5C;\n",
              "      box-shadow: 0px 1px 3px 1px rgba(0, 0, 0, 0.15);\n",
              "      filter: drop-shadow(0px 1px 2px rgba(0, 0, 0, 0.3));\n",
              "      fill: #FFFFFF;\n",
              "    }\n",
              "  </style>\n",
              "\n",
              "      <script>\n",
              "        const buttonEl =\n",
              "          document.querySelector('#df-12437ab6-533d-4b29-bcea-a279a85abca8 button.colab-df-convert');\n",
              "        buttonEl.style.display =\n",
              "          google.colab.kernel.accessAllowed ? 'block' : 'none';\n",
              "\n",
              "        async function convertToInteractive(key) {\n",
              "          const element = document.querySelector('#df-12437ab6-533d-4b29-bcea-a279a85abca8');\n",
              "          const dataTable =\n",
              "            await google.colab.kernel.invokeFunction('convertToInteractive',\n",
              "                                                     [key], {});\n",
              "          if (!dataTable) return;\n",
              "\n",
              "          const docLinkHtml = 'Like what you see? Visit the ' +\n",
              "            '<a target=\"_blank\" href=https://colab.research.google.com/notebooks/data_table.ipynb>data table notebook</a>'\n",
              "            + ' to learn more about interactive tables.';\n",
              "          element.innerHTML = '';\n",
              "          dataTable['output_type'] = 'display_data';\n",
              "          await google.colab.output.renderOutput(dataTable, element);\n",
              "          const docLink = document.createElement('div');\n",
              "          docLink.innerHTML = docLinkHtml;\n",
              "          element.appendChild(docLink);\n",
              "        }\n",
              "      </script>\n",
              "    </div>\n",
              "  </div>\n",
              "  "
            ]
          },
          "metadata": {},
          "execution_count": 23
        }
      ]
    },
    {
      "cell_type": "markdown",
      "source": [
        "# Split the data in Training and Testing\n",
        "\n"
      ],
      "metadata": {
        "id": "gBku2UwUaSqN"
      }
    },
    {
      "cell_type": "code",
      "source": [
        "X_train, X_test, y_train, y_test = train_test_split(comments['cleaned'], \n",
        "                                                    comments['Types_target'], \n",
        "                                                    test_size=0.2, \n",
        "                                                    random_state=8)"
      ],
      "metadata": {
        "id": "mDIBIqlGNtCz"
      },
      "execution_count": 24,
      "outputs": []
    },
    {
      "cell_type": "markdown",
      "source": [
        "# Feature Section"
      ],
      "metadata": {
        "id": "SG9boruRnbpe"
      }
    },
    {
      "cell_type": "code",
      "source": [
        "ngram_range = (1,2)\n",
        "min_df = 10\n",
        "max_df = 1.\n",
        "max_features = 300"
      ],
      "metadata": {
        "id": "cokz0BfpOzSt"
      },
      "execution_count": 25,
      "outputs": []
    },
    {
      "cell_type": "code",
      "source": [
        "tfidf = TfidfVectorizer(encoding='utf-8',\n",
        "                        ngram_range=ngram_range,\n",
        "                        stop_words=None,\n",
        "                        lowercase=False,\n",
        "                        max_df=max_df,\n",
        "                        min_df=min_df,\n",
        "                        max_features=max_features,\n",
        "                        norm='l2',\n",
        "                        sublinear_tf=True)\n",
        "                        \n",
        "features_train = tfidf.fit_transform(X_train).toarray()\n",
        "labels_train = y_train\n",
        "print(features_train)\n",
        "\n",
        "features_test = tfidf.transform(X_test).toarray()\n",
        "labels_test = y_test\n",
        "print(features_test.shape)\n"
      ],
      "metadata": {
        "id": "IBS3OIfYOzYt",
        "colab": {
          "base_uri": "https://localhost:8080/"
        },
        "outputId": "8e8ae1ec-c4c7-40c0-98ce-21b0ac580840"
      },
      "execution_count": 26,
      "outputs": [
        {
          "output_type": "stream",
          "name": "stdout",
          "text": [
            "[[0.         0.         0.33787347 ... 0.         0.         0.        ]\n",
            " [0.         0.         0.         ... 0.         0.         0.        ]\n",
            " [0.         0.         0.         ... 0.         0.         0.        ]\n",
            " ...\n",
            " [0.         0.         0.         ... 0.         0.         0.        ]\n",
            " [0.         0.         0.         ... 0.         0.         0.        ]\n",
            " [0.         0.         0.         ... 0.         0.         0.        ]]\n",
            "(2396, 300)\n"
          ]
        }
      ]
    },
    {
      "cell_type": "markdown",
      "source": [
        "Building Models\n",
        "\n",
        "#Random Forest"
      ],
      "metadata": {
        "id": "lLO5xwDIcKBj"
      }
    },
    {
      "cell_type": "code",
      "source": [
        "from sklearn.ensemble import RandomForestClassifier\n",
        "model  = RandomForestClassifier(random_state=1)\n",
        "model.fit(features_train, labels_train)\n",
        "model_predictions = model.predict(features_test)\n",
        "print('Accuracy: ', accuracy_score(labels_test, model_predictions))\n",
        "print(classification_report(labels_test, model_predictions))"
      ],
      "metadata": {
        "id": "MbXtNZ9QOzey",
        "colab": {
          "base_uri": "https://localhost:8080/"
        },
        "outputId": "1f97aeed-7db1-475a-c46e-886ed65cdd4b"
      },
      "execution_count": 27,
      "outputs": [
        {
          "output_type": "stream",
          "name": "stdout",
          "text": [
            "Accuracy:  0.7925709515859767\n",
            "              precision    recall  f1-score   support\n",
            "\n",
            "           0       0.83      0.74      0.78       817\n",
            "           1       0.77      0.76      0.77       726\n",
            "           2       0.78      0.87      0.82       853\n",
            "\n",
            "    accuracy                           0.79      2396\n",
            "   macro avg       0.79      0.79      0.79      2396\n",
            "weighted avg       0.79      0.79      0.79      2396\n",
            "\n"
          ]
        }
      ]
    },
    {
      "cell_type": "code",
      "source": [
        "from sklearn.metrics import f1_score\n",
        "f1=f1_score(labels_test, model_predictions,average='macro')\n",
        "print('f1_score %.3f' %f1)"
      ],
      "metadata": {
        "id": "BdYuSLMc9XmI",
        "colab": {
          "base_uri": "https://localhost:8080/"
        },
        "outputId": "a2452f3e-9e44-4afc-ea44-5e1ae1b7cc3d"
      },
      "execution_count": 28,
      "outputs": [
        {
          "output_type": "stream",
          "name": "stdout",
          "text": [
            "f1_score 0.790\n"
          ]
        }
      ]
    },
    {
      "cell_type": "code",
      "source": [
        "#finding Precision\n",
        "from sklearn.metrics import precision_score\n",
        "precision=precision_score(labels_test, model_predictions,average='macro')\n",
        "print('precision %.3f'%precision)"
      ],
      "metadata": {
        "id": "y0TdDlsS9bgY",
        "colab": {
          "base_uri": "https://localhost:8080/"
        },
        "outputId": "fd9aa702-fede-498b-b801-41fbdbb4b271"
      },
      "execution_count": 29,
      "outputs": [
        {
          "output_type": "stream",
          "name": "stdout",
          "text": [
            "precision 0.794\n"
          ]
        }
      ]
    },
    {
      "cell_type": "code",
      "source": [
        "model.get_params()"
      ],
      "metadata": {
        "id": "-b0DmZ4APw7Q",
        "colab": {
          "base_uri": "https://localhost:8080/"
        },
        "outputId": "a81a33e7-0913-464f-b767-661681539b07"
      },
      "execution_count": 30,
      "outputs": [
        {
          "output_type": "execute_result",
          "data": {
            "text/plain": [
              "{'bootstrap': True,\n",
              " 'ccp_alpha': 0.0,\n",
              " 'class_weight': None,\n",
              " 'criterion': 'gini',\n",
              " 'max_depth': None,\n",
              " 'max_features': 'sqrt',\n",
              " 'max_leaf_nodes': None,\n",
              " 'max_samples': None,\n",
              " 'min_impurity_decrease': 0.0,\n",
              " 'min_samples_leaf': 1,\n",
              " 'min_samples_split': 2,\n",
              " 'min_weight_fraction_leaf': 0.0,\n",
              " 'n_estimators': 100,\n",
              " 'n_jobs': None,\n",
              " 'oob_score': False,\n",
              " 'random_state': 1,\n",
              " 'verbose': 0,\n",
              " 'warm_start': False}"
            ]
          },
          "metadata": {},
          "execution_count": 30
        }
      ]
    },
    {
      "cell_type": "markdown",
      "source": [
        "# Logistic Regression"
      ],
      "metadata": {
        "id": "G8FJGLTdchMj"
      }
    },
    {
      "cell_type": "code",
      "source": [
        "model = LogisticRegression(C=1)\n",
        "print(model.get_params())\n",
        "model.fit(features_train, labels_train)\n",
        "model_predictions = model.predict(features_test)\n",
        "print('Accuracy: ', accuracy_score(labels_test, model_predictions))\n",
        "print(classification_report(labels_test, model_predictions))\n",
        "clf_report = classification_report(labels_test, model_predictions)"
      ],
      "metadata": {
        "id": "HbMiLb-oP7dc",
        "colab": {
          "base_uri": "https://localhost:8080/"
        },
        "outputId": "684541a8-82ed-48b9-e954-a8d27ce38d5e"
      },
      "execution_count": 31,
      "outputs": [
        {
          "output_type": "stream",
          "name": "stdout",
          "text": [
            "{'C': 1, 'class_weight': None, 'dual': False, 'fit_intercept': True, 'intercept_scaling': 1, 'l1_ratio': None, 'max_iter': 100, 'multi_class': 'auto', 'n_jobs': None, 'penalty': 'l2', 'random_state': None, 'solver': 'lbfgs', 'tol': 0.0001, 'verbose': 0, 'warm_start': False}\n",
            "Accuracy:  0.7762938230383973\n",
            "              precision    recall  f1-score   support\n",
            "\n",
            "           0       0.77      0.74      0.76       817\n",
            "           1       0.78      0.75      0.76       726\n",
            "           2       0.77      0.84      0.81       853\n",
            "\n",
            "    accuracy                           0.78      2396\n",
            "   macro avg       0.78      0.77      0.77      2396\n",
            "weighted avg       0.78      0.78      0.78      2396\n",
            "\n"
          ]
        }
      ]
    },
    {
      "cell_type": "markdown",
      "source": [
        "# Hyper Paramter Tuning (Decision Tree)"
      ],
      "metadata": {
        "id": "vLmb65zqfSHF"
      }
    },
    {
      "cell_type": "code",
      "source": [
        "import numpy as np\n",
        "from scipy.stats import randint\n",
        "from sklearn.model_selection import GridSearchCV,RandomizedSearchCV\n",
        "\n",
        "min_samples_leaf = randint(1,9)\n",
        "\n",
        "criterion = ['gini', 'entropy']\n",
        "max_depth = [3,None]\n",
        "\n",
        "\n",
        "\n",
        "hyperF = dict(max_depth=max_depth,\n",
        "                      criterion=criterion,\n",
        "                      min_samples_leaf=min_samples_leaf)\n",
        "\n",
        "model  = DecisionTreeClassifier(random_state=1)\n",
        "gridF = RandomizedSearchCV(model, hyperF, cv = 3, verbose = 1)\n",
        "bestF = gridF.fit(features_train, labels_train)"
      ],
      "metadata": {
        "id": "J4XdwBKZdfgM",
        "colab": {
          "base_uri": "https://localhost:8080/"
        },
        "outputId": "eef69332-037a-477b-8805-8947bd094364"
      },
      "execution_count": 32,
      "outputs": [
        {
          "output_type": "stream",
          "name": "stdout",
          "text": [
            "Fitting 3 folds for each of 10 candidates, totalling 30 fits\n"
          ]
        }
      ]
    },
    {
      "cell_type": "code",
      "source": [
        "bestF.best_params_"
      ],
      "metadata": {
        "id": "MBd-SnXSdjRk",
        "colab": {
          "base_uri": "https://localhost:8080/"
        },
        "outputId": "4e2a75a3-447b-4ac7-fe6b-2407ecbc80d5"
      },
      "execution_count": 33,
      "outputs": [
        {
          "output_type": "execute_result",
          "data": {
            "text/plain": [
              "{'criterion': 'entropy', 'max_depth': None, 'min_samples_leaf': 3}"
            ]
          },
          "metadata": {},
          "execution_count": 33
        }
      ]
    },
    {
      "cell_type": "code",
      "source": [
        "model = DecisionTreeClassifier(random_state=1,criterion= 'gini', max_depth= None,min_samples_leaf=4)\n",
        "model.fit(features_train, labels_train)\n",
        "model_predictions = model.predict(features_test)\n",
        "print('Accuracy: ', accuracy_score(labels_test, model_predictions))\n",
        "print(classification_report(labels_test, model_predictions))"
      ],
      "metadata": {
        "id": "CtwqmvSpdjaT",
        "colab": {
          "base_uri": "https://localhost:8080/"
        },
        "outputId": "25ae74f4-4e58-4430-eaf1-5f9907aa3175"
      },
      "execution_count": 34,
      "outputs": [
        {
          "output_type": "stream",
          "name": "stdout",
          "text": [
            "Accuracy:  0.7141068447412354\n",
            "              precision    recall  f1-score   support\n",
            "\n",
            "           0       0.72      0.70      0.71       817\n",
            "           1       0.67      0.65      0.66       726\n",
            "           2       0.74      0.79      0.76       853\n",
            "\n",
            "    accuracy                           0.71      2396\n",
            "   macro avg       0.71      0.71      0.71      2396\n",
            "weighted avg       0.71      0.71      0.71      2396\n",
            "\n"
          ]
        }
      ]
    },
    {
      "cell_type": "markdown",
      "source": [
        "# Svm"
      ],
      "metadata": {
        "id": "jxjSOIoeMRDM"
      }
    },
    {
      "cell_type": "code",
      "source": [
        "# Fitting SVM to the training set\n",
        "from sklearn.svm import SVC\n",
        "models = SVC()\n",
        "models.fit(features_train, labels_train)\n",
        "model_predictions = models.predict(features_test)\n",
        "print('Accuracy: ', accuracy_score(labels_test, model_predictions))\n",
        "print(classification_report(labels_test, model_predictions))"
      ],
      "metadata": {
        "id": "drvBWLECMA_G",
        "colab": {
          "base_uri": "https://localhost:8080/"
        },
        "outputId": "30dc8ed9-c98b-41c2-f64e-0961e7001917"
      },
      "execution_count": 35,
      "outputs": [
        {
          "output_type": "stream",
          "name": "stdout",
          "text": [
            "Accuracy:  0.8071786310517529\n",
            "              precision    recall  f1-score   support\n",
            "\n",
            "           0       0.85      0.75      0.80       817\n",
            "           1       0.80      0.76      0.78       726\n",
            "           2       0.78      0.90      0.84       853\n",
            "\n",
            "    accuracy                           0.81      2396\n",
            "   macro avg       0.81      0.80      0.80      2396\n",
            "weighted avg       0.81      0.81      0.81      2396\n",
            "\n"
          ]
        }
      ]
    },
    {
      "cell_type": "markdown",
      "source": [
        "# Doc2Vec"
      ],
      "metadata": {
        "id": "BNshHBD6V7Gy"
      }
    },
    {
      "cell_type": "code",
      "source": [
        "review = pd.DataFrame()"
      ],
      "metadata": {
        "id": "9PKsbekRV5XS"
      },
      "execution_count": 36,
      "outputs": []
    },
    {
      "cell_type": "code",
      "source": [
        "review['Comments'] = comments['cleaned']"
      ],
      "metadata": {
        "id": "FB8GSfdMV5aZ"
      },
      "execution_count": 37,
      "outputs": []
    },
    {
      "cell_type": "code",
      "source": [
        "\n",
        "review['Labels'] = comments['Types_target']\n",
        "\n"
      ],
      "metadata": {
        "id": "iuZ9lNz4V5dM"
      },
      "execution_count": 38,
      "outputs": []
    },
    {
      "cell_type": "code",
      "source": [
        "review.head()"
      ],
      "metadata": {
        "id": "gB95JTteV5fw",
        "colab": {
          "base_uri": "https://localhost:8080/",
          "height": 206
        },
        "outputId": "f0c0944f-2cda-4721-c4bb-4a3f8f5a9c70"
      },
      "execution_count": 39,
      "outputs": [
        {
          "output_type": "execute_result",
          "data": {
            "text/plain": [
              "                                            Comments  Labels\n",
              "0                                ব্লুটুথ দিসে পিন দে       0\n",
              "1                          অর্ডার পাচ্ছি একটু দেখবেন       0\n",
              "2  ফোনের সাথে পানির বোতল ফ্রি দেওয়ার কথা ছিলো দেয়...       0\n",
              "3  ফালতু একটা ফোন অতিরিক্ত গরম ফোনে চার্জ মোবাইলে...       0\n",
              "4  ড্রেসটা ওডার করছিলাম হয়নি সালোয়ার কামিজের কালা...       0"
            ],
            "text/html": [
              "\n",
              "  <div id=\"df-51239c8d-9ae6-4d5a-a689-0f9ce474094a\">\n",
              "    <div class=\"colab-df-container\">\n",
              "      <div>\n",
              "<style scoped>\n",
              "    .dataframe tbody tr th:only-of-type {\n",
              "        vertical-align: middle;\n",
              "    }\n",
              "\n",
              "    .dataframe tbody tr th {\n",
              "        vertical-align: top;\n",
              "    }\n",
              "\n",
              "    .dataframe thead th {\n",
              "        text-align: right;\n",
              "    }\n",
              "</style>\n",
              "<table border=\"1\" class=\"dataframe\">\n",
              "  <thead>\n",
              "    <tr style=\"text-align: right;\">\n",
              "      <th></th>\n",
              "      <th>Comments</th>\n",
              "      <th>Labels</th>\n",
              "    </tr>\n",
              "  </thead>\n",
              "  <tbody>\n",
              "    <tr>\n",
              "      <th>0</th>\n",
              "      <td>ব্লুটুথ দিসে পিন দে</td>\n",
              "      <td>0</td>\n",
              "    </tr>\n",
              "    <tr>\n",
              "      <th>1</th>\n",
              "      <td>অর্ডার পাচ্ছি একটু দেখবেন</td>\n",
              "      <td>0</td>\n",
              "    </tr>\n",
              "    <tr>\n",
              "      <th>2</th>\n",
              "      <td>ফোনের সাথে পানির বোতল ফ্রি দেওয়ার কথা ছিলো দেয়...</td>\n",
              "      <td>0</td>\n",
              "    </tr>\n",
              "    <tr>\n",
              "      <th>3</th>\n",
              "      <td>ফালতু একটা ফোন অতিরিক্ত গরম ফোনে চার্জ মোবাইলে...</td>\n",
              "      <td>0</td>\n",
              "    </tr>\n",
              "    <tr>\n",
              "      <th>4</th>\n",
              "      <td>ড্রেসটা ওডার করছিলাম হয়নি সালোয়ার কামিজের কালা...</td>\n",
              "      <td>0</td>\n",
              "    </tr>\n",
              "  </tbody>\n",
              "</table>\n",
              "</div>\n",
              "      <button class=\"colab-df-convert\" onclick=\"convertToInteractive('df-51239c8d-9ae6-4d5a-a689-0f9ce474094a')\"\n",
              "              title=\"Convert this dataframe to an interactive table.\"\n",
              "              style=\"display:none;\">\n",
              "        \n",
              "  <svg xmlns=\"http://www.w3.org/2000/svg\" height=\"24px\"viewBox=\"0 0 24 24\"\n",
              "       width=\"24px\">\n",
              "    <path d=\"M0 0h24v24H0V0z\" fill=\"none\"/>\n",
              "    <path d=\"M18.56 5.44l.94 2.06.94-2.06 2.06-.94-2.06-.94-.94-2.06-.94 2.06-2.06.94zm-11 1L8.5 8.5l.94-2.06 2.06-.94-2.06-.94L8.5 2.5l-.94 2.06-2.06.94zm10 10l.94 2.06.94-2.06 2.06-.94-2.06-.94-.94-2.06-.94 2.06-2.06.94z\"/><path d=\"M17.41 7.96l-1.37-1.37c-.4-.4-.92-.59-1.43-.59-.52 0-1.04.2-1.43.59L10.3 9.45l-7.72 7.72c-.78.78-.78 2.05 0 2.83L4 21.41c.39.39.9.59 1.41.59.51 0 1.02-.2 1.41-.59l7.78-7.78 2.81-2.81c.8-.78.8-2.07 0-2.86zM5.41 20L4 18.59l7.72-7.72 1.47 1.35L5.41 20z\"/>\n",
              "  </svg>\n",
              "      </button>\n",
              "      \n",
              "  <style>\n",
              "    .colab-df-container {\n",
              "      display:flex;\n",
              "      flex-wrap:wrap;\n",
              "      gap: 12px;\n",
              "    }\n",
              "\n",
              "    .colab-df-convert {\n",
              "      background-color: #E8F0FE;\n",
              "      border: none;\n",
              "      border-radius: 50%;\n",
              "      cursor: pointer;\n",
              "      display: none;\n",
              "      fill: #1967D2;\n",
              "      height: 32px;\n",
              "      padding: 0 0 0 0;\n",
              "      width: 32px;\n",
              "    }\n",
              "\n",
              "    .colab-df-convert:hover {\n",
              "      background-color: #E2EBFA;\n",
              "      box-shadow: 0px 1px 2px rgba(60, 64, 67, 0.3), 0px 1px 3px 1px rgba(60, 64, 67, 0.15);\n",
              "      fill: #174EA6;\n",
              "    }\n",
              "\n",
              "    [theme=dark] .colab-df-convert {\n",
              "      background-color: #3B4455;\n",
              "      fill: #D2E3FC;\n",
              "    }\n",
              "\n",
              "    [theme=dark] .colab-df-convert:hover {\n",
              "      background-color: #434B5C;\n",
              "      box-shadow: 0px 1px 3px 1px rgba(0, 0, 0, 0.15);\n",
              "      filter: drop-shadow(0px 1px 2px rgba(0, 0, 0, 0.3));\n",
              "      fill: #FFFFFF;\n",
              "    }\n",
              "  </style>\n",
              "\n",
              "      <script>\n",
              "        const buttonEl =\n",
              "          document.querySelector('#df-51239c8d-9ae6-4d5a-a689-0f9ce474094a button.colab-df-convert');\n",
              "        buttonEl.style.display =\n",
              "          google.colab.kernel.accessAllowed ? 'block' : 'none';\n",
              "\n",
              "        async function convertToInteractive(key) {\n",
              "          const element = document.querySelector('#df-51239c8d-9ae6-4d5a-a689-0f9ce474094a');\n",
              "          const dataTable =\n",
              "            await google.colab.kernel.invokeFunction('convertToInteractive',\n",
              "                                                     [key], {});\n",
              "          if (!dataTable) return;\n",
              "\n",
              "          const docLinkHtml = 'Like what you see? Visit the ' +\n",
              "            '<a target=\"_blank\" href=https://colab.research.google.com/notebooks/data_table.ipynb>data table notebook</a>'\n",
              "            + ' to learn more about interactive tables.';\n",
              "          element.innerHTML = '';\n",
              "          dataTable['output_type'] = 'display_data';\n",
              "          await google.colab.output.renderOutput(dataTable, element);\n",
              "          const docLink = document.createElement('div');\n",
              "          docLink.innerHTML = docLinkHtml;\n",
              "          element.appendChild(docLink);\n",
              "        }\n",
              "      </script>\n",
              "    </div>\n",
              "  </div>\n",
              "  "
            ]
          },
          "metadata": {},
          "execution_count": 39
        }
      ]
    },
    {
      "cell_type": "code",
      "source": [
        "from tqdm import tqdm\n",
        "tqdm.pandas(desc=\"progress-bar\")\n",
        "from gensim.models import Doc2Vec\n",
        "from sklearn import utils\n",
        "import gensim\n",
        "from gensim.models.doc2vec import TaggedDocument\n",
        "import re\n",
        "\n",
        "def label_sentences(corpus, label_type):\n",
        "    \"\"\"\n",
        "    Gensim's Doc2Vec implementation requires each document/paragraph to have a label associated with it.\n",
        "    We do this by using the TaggedDocument method. The format will be \"TRAIN_i\" or \"TEST_i\" where \"i\" is\n",
        "    a dummy index of the post.\n",
        "    \"\"\"\n",
        "    labeled = []\n",
        "\n",
        "    \n",
        "    for i, v in enumerate(corpus):\n",
        "        label = label_type + '_' + str(i)\n",
        "        labeled.append(TaggedDocument(v.split(), [label]))\n",
        "    \n",
        "    return labeled\n",
        "\n",
        "\n",
        "X_train, X_test, y_train, y_test = train_test_split(review.Comments, review.Labels, random_state=0, test_size=0.3)\n",
        "\n",
        "X_train = label_sentences(X_train, 'Train')\n",
        "X_test = label_sentences(X_test, 'Test')\n",
        "all_data = X_train + X_test"
      ],
      "metadata": {
        "id": "KxYmFgomXYAU"
      },
      "execution_count": 40,
      "outputs": []
    },
    {
      "cell_type": "code",
      "source": [
        "all_data[0:8]"
      ],
      "metadata": {
        "id": "iwf5E0qTXYIL",
        "colab": {
          "base_uri": "https://localhost:8080/"
        },
        "outputId": "4ba6e488-57bd-4b6c-e333-c50f68b02009"
      },
      "execution_count": 41,
      "outputs": [
        {
          "output_type": "execute_result",
          "data": {
            "text/plain": [
              "[TaggedDocument(words=['গুলো', 'মাস্ক', 'ব্যাবহার', 'করছি', 'সেরা', 'মাস্ক', 'স্কয়ারের', 'পন্য', 'ভালোতো', 'হবেই'], tags=['Train_0']),\n",
              " TaggedDocument(words=['ভাষাটা', 'কঠিন', 'সাধুভাষা', 'পড়ার', 'অভ্যাস', 'থাকলে', 'শেষ', 'কঠিন', 'দেবী', 'চৌধুরানীর', 'সাথে', 'কিছুটা', 'মিল', 'পেয়েছি', 'স্বামী', 'বিতাড়িত', 'স্ত্রীর', 'স্বামীর', 'সাথে', 'হওয়া', 'স্বামীর', 'চিনতে', 'পারা', 'দেবী', 'চৌধুরানীর', 'সমাপ্তি', 'ভালো', 'হয়েছিল'], tags=['Train_1']),\n",
              " TaggedDocument(words=['বিবিকিউ', 'পিজ্জা', 'প্রেম', 'সময়', 'পরিদর্শন', 'করেছি', 'পরিবেশও', 'ভাল'], tags=['Train_2']),\n",
              " TaggedDocument(words=['অফারগুলির', 'বৈশিষ্ট্যগুলিতে', 'অ্যাক্সেস', 'ভাল', 'লাগল'], tags=['Train_3']),\n",
              " TaggedDocument(words=['ছেলে', 'ট্যাবলেটটির', 'সাথে', 'খেলতে', 'উপভোগ', 'অবশ্যই', 'খেলতে', 'থাকাকালীন', 'নিরাপদে', 'থাকার', 'সেট', 'আপ', 'কিছুটা', 'সময়'], tags=['Train_4']),\n",
              " TaggedDocument(words=['পেটাইট', 'আকার', 'কিনেছি', 'একাধিক', 'রঙ', 'সুন্দর', 'প্রসারিত', 'সুন্দর'], tags=['Train_5']),\n",
              " TaggedDocument(words=['খারাপ', 'কখনো', 'অভিজ্ঞতা', 'রেস্টুরেন্ট', 'মত', 'মানুষ', 'পর্যালোচনা', 'করুন', 'খাদ্য', 'পরিমাণ', 'সিদ্ধান্তগ্রহণ', 'খাদ্য', 'স্বাদ', 'আগের', 'মত', 'খারাপ', 'দাম', 'বজায়', 'দিবস'], tags=['Train_6']),\n",
              " TaggedDocument(words=['ফালতু', 'রেস্টুরেন্ট', 'জীবনেও', 'যাবনা', 'ইয়াক', 'রেটিং', 'প্রতিহত'], tags=['Train_7'])]"
            ]
          },
          "metadata": {},
          "execution_count": 41
        }
      ]
    },
    {
      "cell_type": "code",
      "source": [
        "model_dbow = Doc2Vec(dm=0, vector_size=300, negative=5, min_count=1, alpha=0.065, min_alpha=0.065)\n",
        "model_dbow.build_vocab([x for x in tqdm(all_data)])\n",
        "\n",
        "for epoch in range(30):\n",
        "    model_dbow.train(utils.shuffle([x for x in tqdm(all_data)]), total_examples=len(all_data), epochs=2)\n",
        "    model_dbow.alpha -= 0.002\n",
        "    model_dbow.min_alpha = model_dbow.alpha"
      ],
      "metadata": {
        "id": "RdKUUREdXYK8",
        "colab": {
          "base_uri": "https://localhost:8080/"
        },
        "outputId": "85e83160-ecd2-4cba-87f8-afd17f659548"
      },
      "execution_count": 42,
      "outputs": [
        {
          "output_type": "stream",
          "name": "stderr",
          "text": [
            "100%|██████████| 11978/11978 [00:00<00:00, 1875933.43it/s]\n",
            "100%|██████████| 11978/11978 [00:00<00:00, 1539385.14it/s]\n",
            "100%|██████████| 11978/11978 [00:00<00:00, 912663.24it/s]\n",
            "100%|██████████| 11978/11978 [00:00<00:00, 1226457.37it/s]\n",
            "100%|██████████| 11978/11978 [00:00<00:00, 1707312.35it/s]\n",
            "100%|██████████| 11978/11978 [00:00<00:00, 1727804.56it/s]\n",
            "100%|██████████| 11978/11978 [00:00<00:00, 1969399.19it/s]\n",
            "100%|██████████| 11978/11978 [00:00<00:00, 1565284.56it/s]\n",
            "100%|██████████| 11978/11978 [00:00<00:00, 2116857.26it/s]\n",
            "100%|██████████| 11978/11978 [00:00<00:00, 2069763.66it/s]\n",
            "100%|██████████| 11978/11978 [00:00<00:00, 1742124.05it/s]\n",
            "100%|██████████| 11978/11978 [00:00<00:00, 889239.66it/s]\n",
            "100%|██████████| 11978/11978 [00:00<00:00, 1062412.73it/s]\n",
            "100%|██████████| 11978/11978 [00:00<00:00, 1683963.71it/s]\n",
            "100%|██████████| 11978/11978 [00:00<00:00, 1586590.03it/s]\n",
            "100%|██████████| 11978/11978 [00:00<00:00, 1303091.08it/s]\n",
            "100%|██████████| 11978/11978 [00:00<00:00, 1640255.10it/s]\n",
            "100%|██████████| 11978/11978 [00:00<00:00, 1532903.32it/s]\n",
            "100%|██████████| 11978/11978 [00:00<00:00, 1710917.22it/s]\n",
            "100%|██████████| 11978/11978 [00:00<00:00, 782057.49it/s]\n",
            "100%|██████████| 11978/11978 [00:00<00:00, 1430791.25it/s]\n",
            "100%|██████████| 11978/11978 [00:00<00:00, 496726.09it/s]\n",
            "100%|██████████| 11978/11978 [00:00<00:00, 1922523.09it/s]\n",
            "100%|██████████| 11978/11978 [00:00<00:00, 1927390.98it/s]\n",
            "100%|██████████| 11978/11978 [00:00<00:00, 1690252.44it/s]\n",
            "100%|██████████| 11978/11978 [00:00<00:00, 1583639.31it/s]\n",
            "100%|██████████| 11978/11978 [00:00<00:00, 1671025.22it/s]\n",
            "100%|██████████| 11978/11978 [00:00<00:00, 1571896.16it/s]\n",
            "100%|██████████| 11978/11978 [00:00<00:00, 827394.16it/s]\n",
            "100%|██████████| 11978/11978 [00:00<00:00, 1011564.95it/s]\n",
            "100%|██████████| 11978/11978 [00:00<00:00, 1452005.01it/s]\n"
          ]
        }
      ]
    },
    {
      "cell_type": "code",
      "source": [
        "import numpy as np\n",
        "def get_vectors(model, corpus_size, vectors_size, vectors_type):\n",
        "    \"\"\"\n",
        "    Get vectors from trained doc2vec model\n",
        "    :param doc2vec_model: Trained Doc2Vec model\n",
        "    :param corpus_size: Size of the data\n",
        "    :param vectors_size: Size of the embedding vectors\n",
        "    :param vectors_type: Training or Testing vectors\n",
        "    :return: list of vectors\n",
        "    \"\"\"\n",
        "    vectors = np.zeros((corpus_size, vectors_size))\n",
        "    for i in range(0, corpus_size):\n",
        "        prefix = vectors_type + '_' + str(i)\n",
        "        vectors[i] = model.docvecs[prefix]\n",
        "    return vectors\n",
        "    \n",
        "train_vectors_dbow = get_vectors(model_dbow, len(X_train), 300, 'Train')\n",
        "test_vectors_dbow = get_vectors(model_dbow, len(X_test), 300, 'Test')"
      ],
      "metadata": {
        "id": "TeOQBHljX15F"
      },
      "execution_count": 43,
      "outputs": []
    },
    {
      "cell_type": "markdown",
      "source": [
        "# Logistic Regression"
      ],
      "metadata": {
        "id": "ZRJBRG_-hYl-"
      }
    },
    {
      "cell_type": "code",
      "source": [
        "model = LogisticRegression(n_jobs=1, C=1e5)\n",
        "model = model.fit(train_vectors_dbow, y_train)\n",
        "model_prediction = model.predict(test_vectors_dbow)\n",
        "print('accuracy %s' % accuracy_score(model_prediction, y_test))\n",
        "print(classification_report(y_test, model_prediction))"
      ],
      "metadata": {
        "id": "G2qCukOwX7h9",
        "colab": {
          "base_uri": "https://localhost:8080/"
        },
        "outputId": "81ab9cbe-91c6-4bfc-ad72-8bb474479d09"
      },
      "execution_count": 44,
      "outputs": [
        {
          "output_type": "stream",
          "name": "stdout",
          "text": [
            "accuracy 0.8770172509738453\n",
            "              precision    recall  f1-score   support\n",
            "\n",
            "           0       0.85      0.85      0.85      1177\n",
            "           1       0.87      0.86      0.86      1132\n",
            "           2       0.90      0.92      0.91      1285\n",
            "\n",
            "    accuracy                           0.88      3594\n",
            "   macro avg       0.88      0.88      0.88      3594\n",
            "weighted avg       0.88      0.88      0.88      3594\n",
            "\n"
          ]
        }
      ]
    },
    {
      "cell_type": "markdown",
      "source": [
        "# RandomForestClassifier"
      ],
      "metadata": {
        "id": "KF9hjQYVhch0"
      }
    },
    {
      "cell_type": "code",
      "source": [
        "model = RandomForestClassifier(n_estimators=120,criterion='entropy',random_state=0)\n",
        "model = model.fit(train_vectors_dbow, y_train)\n",
        "model_prediction = model.predict(test_vectors_dbow)\n",
        "print('accuracy %s' % accuracy_score(model_prediction, y_test))\n",
        "print(classification_report(y_test, model_prediction))"
      ],
      "metadata": {
        "id": "q8gQJgNOX7my",
        "colab": {
          "base_uri": "https://localhost:8080/"
        },
        "outputId": "ce945bdc-05e2-4356-c260-ef2ff99b7369"
      },
      "execution_count": 45,
      "outputs": [
        {
          "output_type": "stream",
          "name": "stdout",
          "text": [
            "accuracy 0.8775737340011129\n",
            "              precision    recall  f1-score   support\n",
            "\n",
            "           0       0.86      0.85      0.85      1177\n",
            "           1       0.84      0.88      0.86      1132\n",
            "           2       0.93      0.90      0.91      1285\n",
            "\n",
            "    accuracy                           0.88      3594\n",
            "   macro avg       0.88      0.88      0.88      3594\n",
            "weighted avg       0.88      0.88      0.88      3594\n",
            "\n"
          ]
        }
      ]
    },
    {
      "cell_type": "markdown",
      "source": [
        "# Fitting SVM"
      ],
      "metadata": {
        "id": "TgUy05g-lRHW"
      }
    },
    {
      "cell_type": "code",
      "source": [
        "# Fitting SVM to the training set\n",
        "from sklearn.svm import SVC\n",
        "model = SVC()\n",
        "model = model.fit(train_vectors_dbow, y_train)\n",
        "model_prediction = model.predict(test_vectors_dbow)\n",
        "print('accuracy %s' % accuracy_score(model_prediction, y_test))\n",
        "print(classification_report(y_test, model_prediction))"
      ],
      "metadata": {
        "id": "evvbL1QkYIFV",
        "colab": {
          "base_uri": "https://localhost:8080/"
        },
        "outputId": "5f89d750-b687-41dc-f339-b5d4e46e74ff"
      },
      "execution_count": 46,
      "outputs": [
        {
          "output_type": "stream",
          "name": "stdout",
          "text": [
            "accuracy 0.9062326099053979\n",
            "              precision    recall  f1-score   support\n",
            "\n",
            "           0       0.89      0.87      0.88      1177\n",
            "           1       0.91      0.90      0.91      1132\n",
            "           2       0.91      0.94      0.92      1285\n",
            "\n",
            "    accuracy                           0.91      3594\n",
            "   macro avg       0.91      0.91      0.91      3594\n",
            "weighted avg       0.91      0.91      0.91      3594\n",
            "\n"
          ]
        }
      ]
    },
    {
      "cell_type": "markdown",
      "source": [
        "# DecisionTreeClassifier"
      ],
      "metadata": {
        "id": "_oXBvMsblWaD"
      }
    },
    {
      "cell_type": "code",
      "source": [
        "model = DecisionTreeClassifier()\n",
        "model = model.fit(train_vectors_dbow, y_train)\n",
        "model_prediction = model.predict(test_vectors_dbow)\n",
        "print('accuracy %s' % accuracy_score(model_prediction, y_test))\n",
        "print(classification_report(y_test, model_prediction))"
      ],
      "metadata": {
        "id": "uOUIbHJ0YIPH",
        "colab": {
          "base_uri": "https://localhost:8080/"
        },
        "outputId": "a19349b4-08ee-4a61-c82e-ee11d95990a6"
      },
      "execution_count": 47,
      "outputs": [
        {
          "output_type": "stream",
          "name": "stdout",
          "text": [
            "accuracy 0.7178631051752922\n",
            "              precision    recall  f1-score   support\n",
            "\n",
            "           0       0.67      0.71      0.69      1177\n",
            "           1       0.69      0.67      0.68      1132\n",
            "           2       0.79      0.77      0.78      1285\n",
            "\n",
            "    accuracy                           0.72      3594\n",
            "   macro avg       0.72      0.72      0.72      3594\n",
            "weighted avg       0.72      0.72      0.72      3594\n",
            "\n"
          ]
        }
      ]
    }
  ]
}